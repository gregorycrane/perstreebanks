{
 "cells": [
  {
   "cell_type": "code",
   "execution_count": 26,
   "metadata": {},
   "outputs": [
    {
     "name": "stdout",
     "output_type": "stream",
     "text": [
      "tlg0003 /Users/gcrane/github/gAGDT/data/xml/tlg0003.tlg001.perseus-grc1.1.tb.xml\n",
      "/Users/gcrane/github/gAGDT/data/xml/tlg0003.tlg001.perseus-grc1.1.tb.xml 22702 2532 22702 2532\n",
      "tlg0011 /Users/gcrane/github/gAGDT/data/xml/tlg0011.tlg001.perseus-grc2.tb.xml\n",
      "/Users/gcrane/github/gAGDT/data/xml/tlg0011.tlg001.perseus-grc2.tb.xml 7561 1845 30263 3757\n",
      "/Users/gcrane/github/gAGDT/data/xml/tlg0011.tlg002.perseus-grc2.tb.xml 7670 1876 37933 4642\n",
      "/Users/gcrane/github/gAGDT/data/xml/tlg0011.tlg003.perseus-grc1.tb.xml 8228 1968 46161 5385\n",
      "/Users/gcrane/github/gAGDT/data/xml/tlg0011.tlg004.perseus-grc1.tb.xml 9700 1780 55861 5883\n",
      "/Users/gcrane/github/gAGDT/data/xml/tlg0011.tlg005.perseus-grc2.tb.xml 9085 1785 64946 6312\n",
      "tlg0012 /Users/gcrane/github/gAGDT/data/xml/tlg0012.tlg001.perseus-grc1.tb.xml\n",
      "/Users/gcrane/github/gAGDT/data/xml/tlg0012.tlg001.perseus-grc1.tb.xml 115048 6936 179994 11032\n",
      "/Users/gcrane/github/gAGDT/data/xml/tlg0012.tlg002.perseus-grc1.tb.xml 89223 5719 269217 12583\n",
      "tlg0013 /Users/gcrane/github/gAGDT/data/xml/tlg0013.tlg002.perseus-grc1.tb.xml\n",
      "/Users/gcrane/github/gAGDT/data/xml/tlg0013.tlg002.perseus-grc1.tb.xml 3407 1170 272624 12809\n",
      "tlg0020 /Users/gcrane/github/gAGDT/data/xml/tlg0020.tlg001.perseus-grc1.tb.xml\n",
      "/Users/gcrane/github/gAGDT/data/xml/tlg0020.tlg001.perseus-grc1.tb.xml 7196 1861 279820 13107\n",
      "/Users/gcrane/github/gAGDT/data/xml/tlg0020.tlg002.perseus-grc1.tb.xml 6110 1668 285930 13346\n",
      "/Users/gcrane/github/gAGDT/data/xml/tlg0020.tlg003.perseus-grc1.tb.xml 3415 1201 289345 13468\n",
      "tlg0085 /Users/gcrane/github/gAGDT/data/xml/tlg0085.tlg001.perseus-grc2.tb.xml\n",
      "/Users/gcrane/github/gAGDT/data/xml/tlg0085.tlg001.perseus-grc2.tb.xml 5075 1751 294420 13958\n",
      "/Users/gcrane/github/gAGDT/data/xml/tlg0085.tlg002.perseus-grc2.tb.xml 5321 1836 299741 14407\n",
      "/Users/gcrane/github/gAGDT/data/xml/tlg0085.tlg003.perseus-grc2.tb.xml 6135 1874 305876 14849\n",
      "/Users/gcrane/github/gAGDT/data/xml/tlg0085.tlg004.perseus-grc2.tb.xml 5288 1746 311164 15233\n",
      "/Users/gcrane/github/gAGDT/data/xml/tlg0085.tlg005.perseus-grc1.tb.xml 8432 2521 319596 15832\n",
      "/Users/gcrane/github/gAGDT/data/xml/tlg0085.tlg006.perseus-grc2.tb.xml 4891 1562 324487 16085\n",
      "/Users/gcrane/github/gAGDT/data/xml/tlg0085.tlg007.perseus-grc1.tb.xml 5467 1594 329954 16332\n",
      "tlg0019 /Users/gcrane/github/pedalion-trees/public/xml/achar.xml\n",
      "/Users/gcrane/github/pedalion-trees/public/xml/achar.xml 7591 1916 337545 17063\n",
      "tlg0058 /Users/gcrane/github/pedalion-trees/public/xml/aeneas.xml\n",
      "/Users/gcrane/github/pedalion-trees/public/xml/aeneas.xml 6478 1252 344023 17390\n",
      "tlg0096 /Users/gcrane/github/pedalion-trees/public/xml/aesop1.xml\n",
      "/Users/gcrane/github/pedalion-trees/public/xml/aesop1.xml 1214 555 345237 17482\n",
      "tlg1220 /Users/gcrane/github/pedalion-trees/public/xml/batracho.xml\n",
      "/Users/gcrane/github/pedalion-trees/public/xml/batracho.xml 1900 773 347137 17609\n",
      "tlg0554 /Users/gcrane/github/pedalion-trees/public/xml/charb1.xml\n",
      "/Users/gcrane/github/pedalion-trees/public/xml/charb1.xml 5290 1320 352427 17856\n",
      "tlg0016 /Users/gcrane/github/pedalion-trees/public/xml/chilia-sentences.xml\n",
      "tlg0540 /Users/gcrane/github/pedalion-trees/public/xml/chilia-sentences.xml\n",
      "tlg0060 /Users/gcrane/github/pedalion-trees/public/xml/chilia-sentences.xml\n",
      "tlg0059 /Users/gcrane/github/pedalion-trees/public/xml/chilia-sentences.xml\n",
      "tlg0008 /Users/gcrane/github/pedalion-trees/public/xml/chilia-sentences.xml\n",
      "tlg0541 /Users/gcrane/github/pedalion-trees/public/xml/chilia-sentences.xml\n",
      "tlg0006 /Users/gcrane/github/pedalion-trees/public/xml/chilia-sentences.xml\n",
      "tlg0062 /Users/gcrane/github/pedalion-trees/public/xml/chilia-sentences.xml\n",
      "tlg0543 /Users/gcrane/github/pedalion-trees/public/xml/chilia-sentences.xml\n",
      "tlg0526 /Users/gcrane/github/pedalion-trees/public/xml/chilia-sentences.xml\n",
      "tlg0081 /Users/gcrane/github/pedalion-trees/public/xml/chilia-sentences.xml\n",
      "tlg0032 /Users/gcrane/github/pedalion-trees/public/xml/chilia-sentences.xml\n",
      "tlg0026 /Users/gcrane/github/pedalion-trees/public/xml/chilia-sentences.xml\n",
      "tlg0014 /Users/gcrane/github/pedalion-trees/public/xml/chilia-sentences.xml\n",
      "tlg0007 /Users/gcrane/github/pedalion-trees/public/xml/chilia-sentences.xml\n",
      "/Users/gcrane/github/pedalion-trees/public/xml/chilia-sentences.xml 7041 1144 359468 17957\n",
      "tlg0041 /Users/gcrane/github/pedalion-trees/public/xml/chion.xml\n",
      "/Users/gcrane/github/pedalion-trees/public/xml/chion.xml 4900 1082 364368 18116\n",
      "/Users/gcrane/github/pedalion-trees/public/xml/crit.xml 4312 669 368680 18178\n",
      "tlg0557 /Users/gcrane/github/pedalion-trees/public/xml/epictetus.xml\n",
      "notype <word ref='Leuven|0557-001|279|1' id=\"1\" form=\"—\" lemma=\"—\" postag='' relation=\"AuxG\" head=\"0\" gloss='' sem=''/>\n",
      "notype <word ref='Leuven|0557-001|404|1' id=\"1\" form=\"—\" lemma=\"—\" postag='' relation=\"AuxG\" head=\"0\" gloss='' sem=''/>\n",
      "/Users/gcrane/github/pedalion-trees/public/xml/epictetus.xml 6252 1168 374932 18479\n",
      "tlg0537 /Users/gcrane/github/pedalion-trees/public/xml/epicurus1.xml\n",
      "notype <word ref='Leuven|0537-012|43|8' id=\"8\" form=\",\" lemma=\",\" postag='' relation=\"AuxX\" head=\"0\" sem=''/>\n",
      "/Users/gcrane/github/pedalion-trees/public/xml/epicurus1.xml 1360 392 376292 18543\n",
      "/Users/gcrane/github/pedalion-trees/public/xml/euripides_medea.xml 8309 1688 384601 18709\n",
      "tlg0028 /Users/gcrane/github/pedalion-trees/public/xml/external_examplesentences.xml\n",
      "tlg0627 /Users/gcrane/github/pedalion-trees/public/xml/external_examplesentences.xml\n",
      "/Users/gcrane/github/pedalion-trees/public/xml/external_examplesentences.xml 3738 1215 388339 18828\n",
      "tlg0343 /Users/gcrane/github/pedalion-trees/public/xml/ez.xml\n",
      "/Users/gcrane/github/pedalion-trees/public/xml/ez.xml 1646 661 389985 18923\n",
      "/Users/gcrane/github/pedalion-trees/public/xml/genesis1.xml 9271 973 399256 19253\n",
      "/Users/gcrane/github/pedalion-trees/public/xml/genesis2.xml 4374 567 403630 19330\n",
      "/Users/gcrane/github/pedalion-trees/public/xml/genesis3.xml 3333 532 406963 19407\n",
      "tlg0559 /Users/gcrane/github/pedalion-trees/public/xml/heron.xml\n",
      "/Users/gcrane/github/pedalion-trees/public/xml/heron.xml 9278 1179 416241 19847\n",
      "tlg0010 /Users/gcrane/github/pedalion-trees/public/xml/iso.xml\n",
      "/Users/gcrane/github/pedalion-trees/public/xml/iso.xml 423 173 416664 19854\n",
      "tlg2003 /Users/gcrane/github/pedalion-trees/public/xml/julian.xml\n",
      "/Users/gcrane/github/pedalion-trees/public/xml/julian.xml 1255 419 417919 19890\n",
      "tlg0561 /Users/gcrane/github/pedalion-trees/public/xml/longus.xml\n",
      "/Users/gcrane/github/pedalion-trees/public/xml/longus.xml 582 296 418501 19931\n",
      "/Users/gcrane/github/pedalion-trees/public/xml/lucian_lis.xml 1161 442 419662 19996\n",
      "/Users/gcrane/github/pedalion-trees/public/xml/lucian_prometheus.xml 2073 604 421735 20064\n",
      "/Users/gcrane/github/pedalion-trees/public/xml/lucian_symposion.xml 4789 1168 426524 20280\n",
      "/Users/gcrane/github/pedalion-trees/public/xml/lysias_or24.xml 1456 377 427980 20299\n",
      "/Users/gcrane/github/pedalion-trees/public/xml/menander_dyskolos.xml 6510 1277 434490 20502\n",
      "/Users/gcrane/github/pedalion-trees/public/xml/mimn.xml 181 120 434671 20507\n",
      "/Users/gcrane/github/pedalion-trees/public/xml/paean.xml 5605 1213 440276 20838\n",
      "/Users/gcrane/github/pedalion-trees/public/xml/papyri.xml 11167 1883 451443 21608\n",
      "tlg0585 /Users/gcrane/github/pedalion-trees/public/xml/phlegon.xml\n",
      "/Users/gcrane/github/pedalion-trees/public/xml/phlegon.xml 5004 1557 456447 21883\n",
      "tlg4029 /Users/gcrane/github/pedalion-trees/public/xml/procopius.xml\n",
      "/Users/gcrane/github/pedalion-trees/public/xml/procopius.xml 26416 2703 482863 22476\n",
      "/Users/gcrane/github/pedalion-trees/public/xml/pseudo-lucian_themule.xml 9801 1653 492664 22652\n",
      "/Users/gcrane/github/pedalion-trees/public/xml/pseudoplato_cleitophon.xml 1637 406 494301 22677\n",
      "tlg0009 /Users/gcrane/github/pedalion-trees/public/xml/sappho.xml\n",
      "/Users/gcrane/github/pedalion-trees/public/xml/sappho.xml 4204 1035 498505 23008\n",
      "/Users/gcrane/github/pedalion-trees/public/xml/semonides.xml 660 312 499165 23037\n",
      "tlg0544 /Users/gcrane/github/pedalion-trees/public/xml/sextus.xml\n",
      "/Users/gcrane/github/pedalion-trees/public/xml/sextus.xml 14386 1702 513551 23496\n",
      "/Users/gcrane/github/pedalion-trees/public/xml/theoc.xml 263 184 513814 23517\n",
      "tlg0093 /Users/gcrane/github/pedalion-trees/public/xml/theophr.xml\n",
      "/Users/gcrane/github/pedalion-trees/public/xml/theophr.xml 7104 1587 520918 23803\n"
     ]
    },
    {
     "name": "stdout",
     "output_type": "stream",
     "text": [
      "/Users/gcrane/github/pedalion-trees/public/xml/thesmo.xml 7671 1846 528589 24145\n",
      "/Users/gcrane/github/pedalion-trees/public/xml/xenmem.xml 24028 2382 552617 24507\n",
      "/Users/gcrane/github/gorman-trees/public/xml/aeschines-1-1-50-bu1.xml 3790 775 556407 24573\n",
      "/Users/gcrane/github/gorman-trees/public/xml/aeschines-1-101-150-bu1.xml 3471 949 559878 24645\n",
      "/Users/gcrane/github/gorman-trees/public/xml/aeschines-1-151-196-bu1.xml 3238 836 563116 24718\n",
      "/Users/gcrane/github/gorman-trees/public/xml/aeschines-1-51-100-bu1.xml 3387 774 566503 24777\n",
      "/Users/gcrane/github/gorman-trees/public/xml/antiphon-1-bu2.xml 1800 405 568303 24799\n",
      "/Users/gcrane/github/gorman-trees/public/xml/antiphon-2-bu2.xml 2565 541 570868 24824\n",
      "/Users/gcrane/github/gorman-trees/public/xml/antiphon-5-bu2.xml 6570 813 577438 24868\n",
      "/Users/gcrane/github/gorman-trees/public/xml/antiphon-6-bu2.xml 3529 560 580967 24897\n",
      "tlg0551 /Users/gcrane/github/gorman-trees/public/xml/appian-bc-1-0-1-4-bu1.xml\n",
      "/Users/gcrane/github/gorman-trees/public/xml/appian-bc-1-0-1-4-bu1.xml 6324 1345 587291 25064\n",
      "/Users/gcrane/github/gorman-trees/public/xml/appian-bc-1-11-14-bu1.xml 5502 1299 592793 25218\n",
      "/Users/gcrane/github/gorman-trees/public/xml/appian-bc-1-5-7-bu1.xml 5243 1254 598036 25396\n",
      "/Users/gcrane/github/gorman-trees/public/xml/appian-bc-1-8-10-bu1.xml 5943 1287 603979 25517\n",
      "tlg0086 /Users/gcrane/github/gorman-trees/public/xml/aristotle-politics-book-1-bu1.xml\n",
      "/Users/gcrane/github/gorman-trees/public/xml/aristotle-politics-book-1-bu1.xml 6774 876 610753 25618\n",
      "/Users/gcrane/github/gorman-trees/public/xml/aristotle-politics-book-2-bu2.xml 10858 1272 621611 25757\n",
      "/Users/gcrane/github/gorman-trees/public/xml/athen12-1-9-2019.xml 1943 707 623554 25831\n",
      "/Users/gcrane/github/gorman-trees/public/xml/athen12-10-19-2019.xml 2535 851 626089 25952\n",
      "/Users/gcrane/github/gorman-trees/public/xml/athen12-20-29-2019.xml 1829 677 627918 26016\n",
      "/Users/gcrane/github/gorman-trees/public/xml/athen12-30-39-2019.xml 1754 694 629672 26104\n",
      "/Users/gcrane/github/gorman-trees/public/xml/athen12-40-49-2019.xml 2146 789 631818 26202\n",
      "/Users/gcrane/github/gorman-trees/public/xml/athen12-50-59-2019.xml 2720 989 634538 26358\n",
      "/Users/gcrane/github/gorman-trees/public/xml/athen12-60-69-2019.xml 2526 842 637064 26445\n",
      "/Users/gcrane/github/gorman-trees/public/xml/athen12-70-81-2019.xml 2812 1002 639876 26598\n",
      "/Users/gcrane/github/gorman-trees/public/xml/athen13-1-9-2019.xml 1904 693 641780 26684\n",
      "/Users/gcrane/github/gorman-trees/public/xml/athen13-10-19-2019.xml 2185 785 643965 26768\n",
      "/Users/gcrane/github/gorman-trees/public/xml/athen13-20-29-2019.xml 2306 888 646271 26887\n",
      "/Users/gcrane/github/gorman-trees/public/xml/athen13-30-39-2019.xml 2253 782 648524 26980\n",
      "/Users/gcrane/github/gorman-trees/public/xml/athen13-40-49-2019.xml 2836 929 651360 27108\n",
      "/Users/gcrane/github/gorman-trees/public/xml/athen13-50-59-2019.xml 2213 820 653573 27239\n",
      "/Users/gcrane/github/gorman-trees/public/xml/athen13-60-69-2019.xml 2158 773 655731 27317\n",
      "/Users/gcrane/github/gorman-trees/public/xml/athen13-70-79-2019.xml 2299 978 658030 27447\n",
      "/Users/gcrane/github/gorman-trees/public/xml/athen13-80-89-2019.xml 2738 968 660768 27594\n",
      "/Users/gcrane/github/gorman-trees/public/xml/athen13-90-95-2019.xml 1324 519 662092 27629\n",
      "/Users/gcrane/github/gorman-trees/public/xml/dem-59-neaira-2019.xml 9340 1330 671432 27772\n",
      "/Users/gcrane/github/gorman-trees/public/xml/demosthenes-1-bu1.xml 1899 506 673331 27787\n",
      "/Users/gcrane/github/gorman-trees/public/xml/demosthenes-18-1-50-bu2.xml 3672 779 677003 27832\n",
      "/Users/gcrane/github/gorman-trees/public/xml/demosthenes-18-101-150-bu2.xml 3783 884 680786 27896\n",
      "/Users/gcrane/github/gorman-trees/public/xml/demosthenes-18-151-200-bu2.xml 3777 835 684563 27948\n",
      "/Users/gcrane/github/gorman-trees/public/xml/demosthenes-18-201-275-bu1.xml 4979 998 689542 28006\n",
      "/Users/gcrane/github/gorman-trees/public/xml/demosthenes-18-276-324-bu1.xml 3397 802 692939 28050\n",
      "/Users/gcrane/github/gorman-trees/public/xml/demosthenes-18-51-100-bu1.xml 3568 795 696507 28100\n",
      "/Users/gcrane/github/gorman-trees/public/xml/demosthenes-4-phil1-bu1.xml 3405 707 699912 28128\n",
      "/Users/gcrane/github/gorman-trees/public/xml/demosthenes-46-tree.xml 1904 366 701816 28145\n",
      "/Users/gcrane/github/gorman-trees/public/xml/demosthenes-47-tree.xml 5461 742 707277 28178\n",
      "/Users/gcrane/github/gorman-trees/public/xml/demosthenes-49-tree.xml 4437 614 711714 28210\n",
      "/Users/gcrane/github/gorman-trees/public/xml/demosthenes-50-tree.xml 4686 752 716400 28256\n",
      "/Users/gcrane/github/gorman-trees/public/xml/demosthenes-52-tree.xml 2173 439 718573 28278\n",
      "/Users/gcrane/github/gorman-trees/public/xml/demosthenes-53-tree.xml 2041 518 720614 28302\n",
      "/Users/gcrane/github/gorman-trees/public/xml/diodsic-11-1-20-bu4.xml 5647 1215 726261 28401\n",
      "/Users/gcrane/github/gorman-trees/public/xml/diodsic-11-81-92-bu1.xml 2706 818 728967 28473\n",
      "/Users/gcrane/github/gorman-trees/public/xml/diodsic11-21-40-bu2.xml 5246 1144 734213 28528\n",
      "/Users/gcrane/github/gorman-trees/public/xml/diodsic11-41-60-bu1.xml 4672 1086 738885 28572\n",
      "/Users/gcrane/github/gorman-trees/public/xml/diodsic11-61-80-bu1.xml 4934 1102 743819 28647\n",
      "/Users/gcrane/github/gorman-trees/public/xml/dion-hal-1-1-15-bu2.xml 4166 1033 747985 28765\n",
      "/Users/gcrane/github/gorman-trees/public/xml/dion-hal-1-16-30-bu1.xml 4220 1033 752205 28872\n",
      "/Users/gcrane/github/gorman-trees/public/xml/dion-hal-1-31-45-bu1.xml 4323 1137 756528 28991\n",
      "/Users/gcrane/github/gorman-trees/public/xml/dion-hal-1-46-60-bu1.xml 4795 1173 761323 29077\n",
      "/Users/gcrane/github/gorman-trees/public/xml/dion-hal-1-61-75-bu1.xml 4546 1114 765869 29179\n",
      "/Users/gcrane/github/gorman-trees/public/xml/dion-hal-1-76-90-bu1.xml 5548 1293 771417 29263\n",
      "/Users/gcrane/github/gorman-trees/public/xml/hdt-1-1-19-bu3-2019.xml 2280 637 773697 29307\n",
      "/Users/gcrane/github/gorman-trees/public/xml/hdt-1-100-119-bu3-2019.xml 2810 708 776507 29366\n",
      "/Users/gcrane/github/gorman-trees/public/xml/hdt-1-120-149-bu2-2019.xml 3756 968 780263 29482\n",
      "/Users/gcrane/github/gorman-trees/public/xml/hdt-1-150-169-bu3-2019.xml 2235 683 782498 29542\n",
      "/Users/gcrane/github/gorman-trees/public/xml/hdt-1-170-189-bu2-2019.xml 2929 809 785427 29618\n",
      "/Users/gcrane/github/gorman-trees/public/xml/hdt-1-190-216-bu2-2019.xml 3822 1001 789249 29701\n",
      "/Users/gcrane/github/gorman-trees/public/xml/hdt-1-20-39-bu2-2019.xml 2691 760 791940 29741\n",
      "/Users/gcrane/github/gorman-trees/public/xml/hdt-1-40-59-bu2-2019.xml 2168 684 794108 29783\n",
      "/Users/gcrane/github/gorman-trees/public/xml/hdt-1-60-79-bu2-2019.xml 3219 885 797327 29839\n",
      "/Users/gcrane/github/gorman-trees/public/xml/hdt-1-80-99-bu5-2019.xml 3553 936 800880 29890\n",
      "/Users/gcrane/github/gorman-trees/public/xml/josephus-bj-1-1-2-bu1.xml 3055 921 803935 29986\n",
      "/Users/gcrane/github/gorman-trees/public/xml/josephus-bj-1-11-15-bu1.xml 3764 1026 807699 30064\n",
      "/Users/gcrane/github/gorman-trees/public/xml/josephus-bj-1-16-20-bu1.xml 4399 1258 812098 30165\n",
      "/Users/gcrane/github/gorman-trees/public/xml/josephus-bj-1-21-25-bu1.xml 5122 1394 817220 30288\n",
      "/Users/gcrane/github/gorman-trees/public/xml/josephus-bj-1-3-5-bu2.xml 2114 759 819334 30330\n",
      "/Users/gcrane/github/gorman-trees/public/xml/josephus-bj-1-6-10-bu1.xml 4278 1137 823612 30398\n",
      "/Users/gcrane/github/gorman-trees/public/xml/lysias-1-bu1.xml 2458 546 826070 30407\n",
      "/Users/gcrane/github/gorman-trees/public/xml/lysias-12-bu1.xml 4967 819 831037 30431\n",
      "/Users/gcrane/github/gorman-trees/public/xml/lysias-13-bu1.xml 4956 734 835993 30455\n",
      "/Users/gcrane/github/gorman-trees/public/xml/lysias-14-bu1.xml 2473 527 838466 30467\n",
      "/Users/gcrane/github/gorman-trees/public/xml/lysias-15.xml 612 209 839078 30468\n",
      "/Users/gcrane/github/gorman-trees/public/xml/lysias-19-bu1.xml 3185 634 842263 30480\n",
      "/Users/gcrane/github/gorman-trees/public/xml/lysias-23-bu1.xml 789 229 843052 30489\n",
      "/Users/gcrane/github/gorman-trees/public/xml/plato-apology.xml 9117 1115 852169 30537\n",
      "/Users/gcrane/github/gorman-trees/public/xml/plut-alcib-1-17-bu1.xml 3919 1158 856088 30614\n",
      "/Users/gcrane/github/gorman-trees/public/xml/plut-alcib-18-39-bu1.xml 6276 1537 862364 30705\n",
      "/Users/gcrane/github/gorman-trees/public/xml/plut-fortuna-romanorum-bu1.xml 4717 1549 867081 30881\n",
      "/Users/gcrane/github/gorman-trees/public/xml/plutarch-alex-fort-aut-virt-bu2.xml 8663 2195 875744 31094\n",
      "/Users/gcrane/github/gorman-trees/public/xml/plutarch-lycurgus-1-15-bu4.xml 4743 1431 880487 31227\n"
     ]
    },
    {
     "name": "stdout",
     "output_type": "stream",
     "text": [
      "/Users/gcrane/github/gorman-trees/public/xml/plutarch-lycurgus-16-31-bu2.xml 4780 1379 885267 31329\n",
      "/Users/gcrane/github/gorman-trees/public/xml/polybius-10-1-10-bu1.xml 2648 747 887915 31388\n",
      "/Users/gcrane/github/gorman-trees/public/xml/polybius-10-11-20-bu1.xml 3080 795 890995 31431\n",
      "/Users/gcrane/github/gorman-trees/public/xml/polybius-10-21-35-bu2.xml 3831 1035 894826 31519\n",
      "/Users/gcrane/github/gorman-trees/public/xml/polybius-10-36-49-bu1.xml 4038 950 898864 31590\n",
      "/Users/gcrane/github/gorman-trees/public/xml/polybius-2-1-10-bu1.xml 2595 791 901459 31638\n",
      "/Users/gcrane/github/gorman-trees/public/xml/polybius-2-11-20-bu1.xml 3050 836 904509 31716\n",
      "/Users/gcrane/github/gorman-trees/public/xml/polybius-2-21-30-bu2.xml 2804 767 907313 31763\n",
      "/Users/gcrane/github/gorman-trees/public/xml/polybius-2-31-40-bu2.xml 2826 783 910139 31806\n",
      "/Users/gcrane/github/gorman-trees/public/xml/polybius-2-41-50-bu1.xml 2476 679 912615 31845\n",
      "/Users/gcrane/github/gorman-trees/public/xml/polybius-2-51-60-bu1.xml 2695 787 915310 31888\n",
      "/Users/gcrane/github/gorman-trees/public/xml/polybius-2-61-71-bu2.xml 2856 788 918166 31917\n",
      "/Users/gcrane/github/gorman-trees/public/xml/polybius-21-1-10-bu1.xml 1664 517 919830 31943\n",
      "/Users/gcrane/github/gorman-trees/public/xml/polybius-21-11-20-bu1.xml 2462 610 922292 31967\n",
      "/Users/gcrane/github/gorman-trees/public/xml/polybius-21-21-30-bu1.xml 3319 849 925611 32008\n",
      "/Users/gcrane/github/gorman-trees/public/xml/polybius-21-31-47-bu1.xml 3587 876 929198 32069\n",
      "/Users/gcrane/github/gorman-trees/public/xml/polybius-6-16-30-bu1.xml 3520 776 932718 32134\n",
      "/Users/gcrane/github/gorman-trees/public/xml/polybius-6-2-15-bu1.xml 4623 1003 937341 32192\n",
      "/Users/gcrane/github/gorman-trees/public/xml/polybius-6-31-45-bu1.xml 4154 861 941495 32227\n",
      "/Users/gcrane/github/gorman-trees/public/xml/polybius-6-46-58-bu1.xml 3377 832 944872 32256\n",
      "/Users/gcrane/github/gorman-trees/public/xml/polybius-9-1-20-bu1.xml 5012 1151 949884 32316\n",
      "/Users/gcrane/github/gorman-trees/public/xml/polybius-9-21-33-bu1.xml 3234 825 953118 32354\n",
      "/Users/gcrane/github/gorman-trees/public/xml/polybius-9-34-45-bu1.xml 2261 696 955379 32393\n",
      "/Users/gcrane/github/gorman-trees/public/xml/polybius1-1-9-2017.xml 2397 715 957776 32423\n",
      "/Users/gcrane/github/gorman-trees/public/xml/polybius1-10-19-2017.xml 3096 822 960872 32457\n",
      "/Users/gcrane/github/gorman-trees/public/xml/polybius1-20-29-2017.xml 3429 840 964301 32511\n",
      "/Users/gcrane/github/gorman-trees/public/xml/polybius1-30-39-2017.xml 2950 825 967251 32543\n",
      "/Users/gcrane/github/gorman-trees/public/xml/polybius1-40-49-2017.xml 3156 845 970407 32586\n",
      "/Users/gcrane/github/gorman-trees/public/xml/polybius1-50-59-2017.xml 2765 759 973172 32608\n",
      "/Users/gcrane/github/gorman-trees/public/xml/polybius1-60-69-2017.xml 2843 831 976015 32641\n",
      "/Users/gcrane/github/gorman-trees/public/xml/polybius1-70-79-2017.xml 2753 749 978768 32668\n",
      "/Users/gcrane/github/gorman-trees/public/xml/polybius1-80-88-2017.xml 2468 707 981236 32690\n",
      "/Users/gcrane/github/gorman-trees/public/xml/ps-xen-ath-pol-bu2.xml 3312 641 984548 32704\n",
      "/Users/gcrane/github/gorman-trees/public/xml/thuc-1-1-20-bu5.xml 3100 762 987648 32704\n",
      "/Users/gcrane/github/gorman-trees/public/xml/thuc-1-101-120-bu2.xml 2792 719 990440 32704\n",
      "/Users/gcrane/github/gorman-trees/public/xml/thuc-1-121-146-bu3.xml 4826 1082 995266 32704\n",
      "/Users/gcrane/github/gorman-trees/public/xml/thuc-1-21-40-bu4.xml 3373 781 998639 32704\n",
      "/Users/gcrane/github/gorman-trees/public/xml/thuc-1-41-60-bu3.xml 2454 615 1001093 32704\n",
      "/Users/gcrane/github/gorman-trees/public/xml/thuc-1-61-80-bu3.xml 3434 804 1004527 32704\n",
      "/Users/gcrane/github/gorman-trees/public/xml/thuc-1-81-100-bu2.xml 2846 743 1007373 32704\n",
      "/Users/gcrane/github/gorman-trees/public/xml/thuc-3-1-20-bu1.xml 2699 708 1010072 32746\n",
      "/Users/gcrane/github/gorman-trees/public/xml/thuc-3-21-40-bu1.xml 3554 880 1013626 32788\n",
      "/Users/gcrane/github/gorman-trees/public/xml/xen-cyr-1-1-2-bu1.xml 2277 589 1015903 32799\n",
      "/Users/gcrane/github/gorman-trees/public/xml/xen-cyr-1-3-4-bu1.xml 4769 910 1020672 32847\n",
      "/Users/gcrane/github/gorman-trees/public/xml/xen-cyr-1-5-bu1.xml 1092 371 1021764 32853\n",
      "/Users/gcrane/github/gorman-trees/public/xml/xen-cyr-1-6-bu1.xml 4301 821 1026065 32874\n",
      "/Users/gcrane/github/gorman-trees/public/xml/xen-cyr-7-1-3-tree.xml 4696 937 1030761 32922\n",
      "/Users/gcrane/github/gorman-trees/public/xml/xen-cyr-7-4-5-tree.xml 4806 960 1035567 32966\n",
      "/Users/gcrane/github/gorman-trees/public/xml/xen-cyr-8-1-8-4-bu1.xml 8570 1245 1044137 33026\n",
      "/Users/gcrane/github/gorman-trees/public/xml/xen-cyr-8-5-7-bu1.xml 4343 896 1048480 33041\n",
      "/Users/gcrane/github/gorman-trees/public/xml/xen-cyr-8-8-bu1.xml 1415 439 1049895 33048\n",
      "/Users/gcrane/github/gorman-trees/public/xml/xen-hell-1-1-4-bu2.xml 3682 851 1053577 33110\n",
      "/Users/gcrane/github/gorman-trees/public/xml/xen-hell-1-5-7-bu1.xml 3908 824 1057485 33132\n",
      "/Users/gcrane/github/gorman-trees/public/xml/xen-hell-2-bu1.xml 7952 1425 1065437 33225\n",
      "/Users/gcrane/github/gorman-trees/public/xml/xen-hell-3-bu1.xml 8669 1466 1074106 33336\n"
     ]
    }
   ],
   "source": [
    "import re\n",
    "import os\n",
    "\n",
    "authinfo = {}\n",
    "authinfo['tlg0011'] = 'Sophocles,-497,-406,poetry,drama'\n",
    "authinfo['tlg1220'] = 'Batrachomyomachia,-100,-1,poetry,hexameter'\n",
    "authinfo['tlg0013'] = 'Homeric Hymns,-650,-450,poetry,hexameter'\n",
    "authinfo['tlg0020'] = 'Hesiod,-750,-650,poetry,hexameter'\n",
    "authinfo['tlg0026'] = 'Aeschines,-389,-314,prose,orator'\n",
    "authinfo['tlg0058'] = 'Aeneas Tacticus,301,400,prose,misc'\n",
    "authinfo['tlg0096'] = 'Aesop,-620,-564,prose'\n",
    "authinfo['tlg0085'] = 'Aeschylus,-525c,-455c,poetry,drama'\n",
    "authinfo['tlg0028'] = 'Antiphon,-490,-411,prose,orator'\n",
    "authinfo['tlg0551'] = 'Appian,-490,-411,prose,history'\n",
    "authinfo['tlg0086'] = 'Aristotle,-384,-322,prose,philosophy'\n",
    "authinfo['tlg0019'] = 'Aristophanes,-446,-386,poetry,drama'\n",
    "authinfo['tlg0008'] = 'Athenaeus,170,223,prose,misc'\n",
    "authinfo['tlg0554'] = 'Chariton,101,200,prose,misc'\n",
    "authinfo['tlg0041'] = 'Chionis Epistulae,1,200,prose,misc'\n",
    "authinfo['tlg0627'] = 'Corpus Hippocraticum,-450,-350,prose,misc'\n",
    "authinfo['tlg0014'] = 'Demosthenes,-384,-322,prose,orator'\n",
    "authinfo['tlg0060'] = 'Diodorus Siculus,-90c,-30c,prose,history'\n",
    "authinfo['tlg0081'] = 'Dionysius of Halicarnassus,-60c,-7c,prose,history'\n",
    "authinfo['tlg0557'] = 'Epictetus,50,135,prose,philosopy'\n",
    "authinfo['tlg0537'] = 'Epicurus,-341,-270,prose,philosophy'\n",
    "authinfo['tlg0343'] = 'Ezechiel the Tragic Poet,-200,-101,poetry'\n",
    "authinfo['tlg0006'] = 'Euripides,-480c,-406c,poetry,drama'\n",
    "authinfo['tlg0016'] = 'Herodotus,-484c,-425c,prose,history'\n",
    "authinfo['tlg0559'] = 'Heron of Alexandria,10,70,prose,misc'\n",
    "authinfo['tlg0010'] = 'Isocrates,-436,-338,prose,orator'\n",
    "authinfo['tlg0526'] = 'Josephus,37,100c,prose,history'\n",
    "authinfo['tlg2003'] = 'Julian the Apostate,331,363,prose,misc'\n",
    "authinfo['tlg0561'] = 'Longus,101,200,prose,misc'\n",
    "authinfo['tlg0061'] = 'Pseudo-Lucian,201,400,prose,misc'\n",
    "authinfo['tlg0062'] = 'Lucian,125,180,prose,misc'\n",
    "authinfo['tlg0540'] = 'Lysias,-445c,-380c,prose,orator'\n",
    "authinfo['tlg0541'] = 'Menander,-342,-291,poetry,drama'\n",
    "authinfo['tlg0255'] = 'Mimnermus,-650,-600,poetry,lyreleg'\n",
    "authinfo['tlgX208'] = 'Paeanius,301,400,prose,misc'\n",
    "authinfo['tlg0585'] = 'Phlegon,151,200,prose,misc'\n",
    "authinfo['tlg0059'] = 'Plato,-428c,-347c,prose,philosophy'\n",
    "authinfo['tlg0007'] = 'Plutarch,46,119,prose,history'\n",
    "authinfo['tlg0543'] = 'Polybius,-200,-118,prose,history'\n",
    "authinfo['tlg4029'] = 'Procopius,500,565,prose,history'\n",
    "authinfo['tlg0009'] = 'Sappho,-630,-570,poetry,lyreleg'\n",
    "authinfo['tlg0260'] = 'Semonides,-700,-601,poetry,lyreleg'\n",
    "authinfo['tlg0527'] = 'Septuagint,-250,-100,prose,bible'\n",
    "authinfo['tlg0544'] = 'Sextus Empiricus,150,250,prose,philosophy'\n",
    "authinfo['tlg0032'] = 'Xenophon,-430c,-354,prose,history'\n",
    "authinfo['tlg0005'] = 'Theocritus,-300,-255,poetry,hexameter'\n",
    "authinfo['tlg0003'] = 'Thucydides,-460c,-400c,prose,history'\n",
    "authinfo['tlg0093'] = 'Theophrastus,-371,-287,prose,philosophy'\n",
    "authinfo['tlg0012'] = 'Homer,-775c,-700c,poetry,hexameter'\n",
    "\n",
    "\n",
    "persids = {}\n",
    "sortdates = {}\n",
    "\n",
    "def addfiles(dirname,flist):\n",
    "    for foo in sorted(os.listdir(dirname)):\n",
    "        if(not re.search('\\.xml$',foo)):\n",
    "            continue\n",
    "        flist.append(dirname+foo)\n",
    "    return(flist)\n",
    "\n",
    "searchfiles = []\n",
    "\n",
    "\n",
    "pedaliontrees = '/Users/gcrane/github/pedalion-trees/public/xml/'\n",
    "gormantrees = '/Users/gcrane/github/gorman-trees/public/xml/'\n",
    "perseustrees = '/Users/gcrane/github/gAGDT/data/xml/'\n",
    "searchfiles = addfiles(perseustrees,searchfiles)\n",
    "searchfiles = addfiles(pedaliontrees,searchfiles)\n",
    "searchfiles = addfiles(gormantrees,searchfiles)\n",
    "formcnt = 0\n",
    "formlist = {}\n",
    "lemmacnt = 0\n",
    "lemmalist = {}\n",
    "nounlist = {}\n",
    "persids = {}\n",
    "authorwordcnt = {}\n",
    "\n",
    "verblist = {}\n",
    "def getwords(fname):\n",
    "    if(re.search('example-sentences',fname)):\n",
    "        return\n",
    "    global formcnt\n",
    "    global formlist\n",
    "    global lemmacnt\n",
    "    global lemmalist\n",
    "    global verblist\n",
    "    global nounlist\n",
    "    global persids\n",
    "    global authorwordcnt\n",
    "    curformcnt = 0\n",
    "    curlemmas = {}\n",
    "    curauthid = ''\n",
    "    f = open(fname)\n",
    "    if(re.search(\"papyri\",fname)):\n",
    "        curauthid = 'papyri'\n",
    "        if(not curauthid in persids):\n",
    "                #print(curauthid,fname,l)\n",
    "            authorwordcnt[curauthid] = 0\n",
    "    \n",
    "    for l in f:\n",
    "        curtype = ''\n",
    "        if(re.search('#',l)):\n",
    "            continue\n",
    "        \n",
    "        l = re.sub(\"(word|id|form|lemma|postag|relation|head)='([^']+)'\",'\\g<1>=\"\\g<2>\"',l)\n",
    "        m = re.search('postag=\"(.)',l)\n",
    "        if(m):\n",
    "            curtype = m[1]\n",
    "            if(curtype == 'u'):\n",
    "                continue\n",
    "                \n",
    "        #if(re.search('document_id',l)):\n",
    "        #    print(l)\n",
    "        if(re.search(\"ref='Leuven\\|Paean\",l)):\n",
    "            curauthid = 'tlgX208'\n",
    "            #print('saw',curauthid,l)\n",
    "            if(not curauthid in persids):\n",
    "                #print(curauthid,fname,l)\n",
    "                authorwordcnt[curauthid] = 0\n",
    "                persids[curauthid] = fname\n",
    "\n",
    "        if(re.search(\"ref='Leuven\\|Mimn\",l)):\n",
    "            curauthid = 'tlg0255'\n",
    "            if(not curauthid in persids):\n",
    "                #print(curauthid,fname,l)\n",
    "                authorwordcnt[curauthid] = 0\n",
    "                persids[curauthid] = fname\n",
    "        if(re.search(\"ref='Leuven\\|0260\",l)):\n",
    "            curauthid = 'tlg0260'\n",
    "            if(not curauthid in persids):\n",
    "                #print(curauthid,fname,l)\n",
    "                authorwordcnt[curauthid] = 0\n",
    "                persids[curauthid] = fname\n",
    "        if(re.search(\"ref='Leuven\\|0005\",l)):\n",
    "            curauthid = 'tlg0005'\n",
    "            if(not curauthid in persids):\n",
    "                #print(curauthid,fname,l)\n",
    "                authorwordcnt[curauthid] = 0\n",
    "                persids[curauthid] = fname\n",
    "        if(re.search(\"ref='Leuven\\|Ps-Luc\",l)):\n",
    "            curauthid = 'tlg0061'\n",
    "            if(not curauthid in persids):\n",
    "                #print(curauthid,fname,l)\n",
    "                authorwordcnt[curauthid] = 0\n",
    "                persids[curauthid] = fname\n",
    "        if(re.search(\"ref='Leuven\\|Genesis\",l)):\n",
    "            curauthid = 'tlg0527'\n",
    "            if(not curauthid in persids):\n",
    "                #print(curauthid,fname,l)\n",
    "                authorwordcnt[curauthid] = 0\n",
    "                persids[curauthid] = fname\n",
    "        m = re.search('document_id=\"([0-9]+)\\-([0-9]+)',l)\n",
    "        if(m):\n",
    "            #print('hit!',m[1])\n",
    "            curdocid = 'urn:cts:greekLit:tlg' + m[1] + '.' +'tlg' + m[1]\n",
    "            #print('cur1',curdocid)\n",
    "            m = re.search('(tlg[0-9][0-9][0-9][0-9])',curdocid)\n",
    "            if(m):\n",
    "                curauthid = m[1]\n",
    "            else:\n",
    "                print('badid',curdocid)\n",
    "                curauthid = 'noid'\n",
    "            if(not curauthid in persids):\n",
    "                print(curauthid,fname)\n",
    "                authorwordcnt[curauthid] = 0\n",
    "            persids[curauthid] = fname\n",
    "        #else:\n",
    "        #    print('nodoc',l,end='')\n",
    "                \n",
    "            \n",
    "        m = re.search('document_id=\"(http://perseids.org[^\"]+|http://data.perseus.org[^\"]+|http://perseids.org/annotsrc/urn:cts:greekLit:[^\"]+|Perseus[^\"]+|urn:[^\"]+)\"',l)\n",
    "        if(m):\n",
    "            curdocid = m[1]\n",
    "            #print('cur2',curdocid)\n",
    "            m = re.search('(tlg[0-9][0-9][0-9][0-9])',curdocid)\n",
    "            if(m):\n",
    "                curauthid = m[1]\n",
    "            elif(curdocid == 'Perseus:text:2008.01.0405'):\n",
    "                curauthid = 'tlg0008'\n",
    "            else:\n",
    "                print('badid3',curdocid)\n",
    "                curauthid = 'noid'\n",
    "            if(not curauthid in persids):\n",
    "                print(curauthid,fname)\n",
    "                authorwordcnt[curauthid] = 0\n",
    "            persids[curauthid] = fname\n",
    "            \n",
    "        m = re.search('form=\"([^\"]+)\"',l)\n",
    "        if(m):\n",
    "            formcnt = formcnt + 1\n",
    "            curformcnt = curformcnt + 1\n",
    "            if(not curauthid):\n",
    "                print('noauthid',fname,l)\n",
    "            else:\n",
    "                authorwordcnt[curauthid] = authorwordcnt[curauthid] + 1\n",
    "            curform = m[1]\n",
    "            if(curform in formlist):\n",
    "                formlist[curform] = formlist[curform] + 1\n",
    "            else:\n",
    "                formlist[curform] = 1\n",
    "        \n",
    "        m = re.search('lemma=\"([^\"]+)\"',l)\n",
    "        if(m):\n",
    "            if(not curtype):\n",
    "                print('notype',l,end='')\n",
    "                continue\n",
    "            lemmacnt = lemmacnt + 1\n",
    "            curform = m[1]\n",
    "            if(curtype =='n' ):\n",
    "                if( not curform in nounlist):\n",
    "                    nounlist[curform] = 1\n",
    "                else:\n",
    "                    nounlist[curform] = nounlist[curform] + 1\n",
    "            if(curtype =='v' ):\n",
    "                if( not curform in verblist):\n",
    "                    verblist[curform] = 1\n",
    "                else:\n",
    "                    verblist[curform] = verblist[curform] + 1\n",
    "                    \n",
    "            if(curform in lemmalist):\n",
    "                lemmalist[curform] = lemmalist[curform] + 1\n",
    "            else:\n",
    "                lemmalist[curform] = 1\n",
    "            if(curform in curlemmas):\n",
    "                curlemmas[curform] = curlemmas[curform] + 1\n",
    "            else:\n",
    "                curlemmas[curform] = 1\n",
    "        \n",
    "    print(fname,curformcnt,len(curlemmas),formcnt,len(lemmalist))\n",
    "    f.close()\n",
    "for foo in searchfiles:\n",
    "    getwords(foo)\n",
    "\n",
    "#print(searchfiles)\n"
   ]
  },
  {
   "cell_type": "code",
   "execution_count": 41,
   "metadata": {},
   "outputs": [
    {
     "data": {
      "text/plain": [
       "False"
      ]
     },
     "execution_count": 41,
     "metadata": {},
     "output_type": "execute_result"
    }
   ],
   "source": [
    "'καί' in verblist"
   ]
  },
  {
   "cell_type": "code",
   "execution_count": 70,
   "metadata": {},
   "outputs": [
    {
     "name": "stdout",
     "output_type": "stream",
     "text": [
      "33434\n",
      "1 verb ὁ 110638 1\n",
      "2 verb εἰμί 18669 18666\n",
      "3 noun ἐγώ 12284 2\n",
      "4 noun τις 8418 1\n",
      "5 noun σύ 8236 7\n",
      "6 verb ἔχω 5355 5355\n",
      "7 verb γίγνομαι 5124 5124\n",
      "8 noun ἀνήρ 3637 3637\n",
      "9 verb ποιέω 3550 3547\n",
      "10 verb φημί 3550 3550\n",
      "11 noun πόλις 3372 3372\n",
      "12 verb παρά 3004 1\n",
      "13 noun θεός 2658 2658\n",
      "14 verb λέγω 2434 2434\n",
      "15 noun ναῦς 1960 1959\n",
      "16 noun κακός 1844 1\n",
      "17 verb λαμβάνω 1828 1827\n",
      "18 verb ἔρχομαι 1826 1826\n",
      "19 verb δίδωμι 1809 1809\n",
      "20 noun φίλος 1781 318\n",
      "21 verb λέγω3 1695 1695\n",
      "22 noun ἄνθρωπος 1678 1678\n",
      "23 verb δοκέω 1676 1676\n",
      "24 noun γυνή 1638 1638\n",
      "25 noun παῖς 1637 1637\n",
      "26 noun λόγος 1618 1618\n",
      "27 verb οἶδα 1599 1599\n",
      "28 noun τίς 1568 2\n",
      "29 verb εἶπον 1565 1565\n",
      "30 noun πατήρ 1518 1518\n",
      "31 noun Ζεύς 1461 1458\n",
      "32 verb ὁράω 1398 1398\n",
      "33 noun βασιλεύς 1396 1396\n",
      "34 verb βούλομαι 1353 1353\n",
      "35 verb φέρω 1328 1328\n",
      "36 noun πόλεμος 1319 1319\n",
      "37 noun χείρ 1310 1310\n",
      "38 noun ἔργον 1181 1181\n",
      "39 noun χρόνος 1179 1179\n",
      "40 verb ἄρχω 1119 1119\n",
      "41 verb καλέω 1119 1119\n",
      "42 verb πράσσω 1112 1109\n",
      "43 noun υἱός 1105 1105\n",
      "44 verb ἀκούω 1101 1101\n",
      "45 verb δύναμαι 1071 1071\n",
      "46 noun ἀγαθός 1071 2\n",
      "47 verb αἱρέω 1039 1039\n",
      "48 noun εἷς 1034 214\n",
      "49 verb πείθω 1024 1024\n",
      "50 verb ἄγω 1018 1018\n",
      "51 noun γῆ 1013 1013\n",
      "52 noun ἀρχή 1011 1011\n",
      "53 noun Ῥωμαῖος 1009 712\n",
      "54 verb ἐθέλω 999 999\n",
      "55 noun θυμός 940 940\n",
      "56 verb τίθημι 937 937\n",
      "57 verb εἶμι 929 929\n",
      "58 noun νόμος 922 922\n",
      "59 verb εἶδον 916 916\n",
      "60 noun ἡμέρα 910 910\n",
      "61 verb κελεύω 903 903\n",
      "62 noun πρᾶγμα 891 891\n",
      "63 noun Ἀχαιός 887 242\n",
      "64 verb οἴομαι 870 870\n",
      "65 verb ἵστημι 859 859\n",
      "66 noun μηδείς 846 78\n",
      "67 noun πολέμιος 840 445\n",
      "68 noun Ἀθηναῖος 838 533\n",
      "69 noun δύναμις 834 834\n",
      "70 verb φαίνω 831 831\n",
      "71 verb τυγχάνω 830 830\n",
      "72 verb δέω 827 827\n",
      "73 verb γιγνώσκω 814 814\n",
      "74 verb δεῖ 811 811\n",
      "75 noun ἵππος 811 811\n",
      "76 verb μέλλω 809 809\n",
      "77 noun εὖ 806 1\n",
      "78 verb πέμπω 782 782\n",
      "79 noun Ὀδυσσεύς 758 758\n",
      "80 noun δύο 747 1\n",
      "81 noun μέρος 745 745\n",
      "82 noun δῆμος 719 719\n",
      "83 verb νομίζω 718 718\n",
      "84 noun χώρα 714 714\n",
      "85 noun Πέρσης 703 702\n",
      "86 noun μήτηρ 699 699\n",
      "87 verb φεύγω 698 698\n",
      "88 verb χρή 692 692\n",
      "89 noun Τρώς 689 689\n",
      "90 noun Ἕλλην 672 672\n",
      "91 noun χρῆμα 669 669\n",
      "92 verb καθίστημι 669 669\n",
      "93 noun μήν 667 39\n",
      "94 verb βάλλω 660 660\n",
      "95 verb πάσχω 651 651\n",
      "96 verb γράφω 624 624\n",
      "97 verb ἡγέομαι 621 621\n",
      "98 noun Λακεδαιμόνιος 614 553\n",
      "99 noun μάχη 613 613\n",
      "100 noun ἔπος 609 609\n",
      "101 noun πλῆθος 603 600\n",
      "102 noun τρόπος 603 603\n",
      "103 noun θάλασσα 601 601\n",
      "104 noun στρατηγός 597 597\n",
      "105 verb μένω 594 594\n",
      "106 verb συμβαίνω 593 593\n",
      "107 verb εὑρίσκω 581 581\n",
      "108 noun νύξ 577 577\n",
      "109 noun δίκη 576 576\n",
      "110 noun σύμμαχος 571 428\n",
      "111 noun ἔτος 565 565\n",
      "112 noun φρήν 564 563\n",
      "113 verb παρέχω 561 561\n",
      "114 noun βίος 557 557\n",
      "115 noun καιρός 557 557\n",
      "116 noun σῶμα 547 547\n",
      "117 verb ἥκω 543 543\n",
      "118 noun πούς 534 534\n",
      "119 noun τόπος 524 524\n",
      "120 noun τεῖχος 518 518\n",
      "121 verb θνήσκω 518 518\n",
      "122 verb ἀπόλλυμι 515 515\n",
      "123 verb βαίνω 515 515\n",
      "124 noun ἑταῖρος 515 515\n",
      "125 verb ἀφικνέομαι 513 513\n",
      "126 verb κεῖμαι 511 511\n",
      "127 noun ἀδελφός 506 503\n",
      "128 noun Κῦρος 506 506\n",
      "129 noun Ἀθήναιος 503 501\n",
      "130 verb ὑπάρχω 501 501\n",
      "131 verb ζάω 495 495\n",
      "132 verb πρό 489 1\n",
      "133 noun ὄνομα 488 488\n",
      "134 verb πάρειμι 486 486\n",
      "135 noun νέος 486 1\n",
      "136 noun θάνατος 482 482\n",
      "137 verb πάρειμι1 481 481\n",
      "138 verb ἐάω 480 480\n",
      "139 noun οἶκος 476 476\n",
      "140 noun ποταμός 473 473\n",
      "141 noun κύριος 471 334\n",
      "142 noun γένος 469 469\n",
      "143 verb μάχομαι 460 460\n",
      "144 noun Ἕκτωρ 458 458\n",
      "145 verb ἀδικέω 455 455\n",
      "146 verb μανθάνω 454 454\n",
      "147 verb χαίρω 448 448\n",
      "148 verb κρατέω 446 446\n",
      "149 noun ἱππεύς 446 446\n",
      "150 noun γαῖα 446 446\n",
      "151 noun δῖος 445 1\n",
      "152 verb νικάω 444 444\n",
      "153 verb ἀξιόω 439 439\n",
      "154 noun θυγάτηρ 436 436\n",
      "155 verb πίπτω 433 433\n",
      "156 verb πυνθάνομαι 429 429\n",
      "157 noun χάρις 427 342\n",
      "158 noun φύσις 427 427\n",
      "159 noun βουλή 425 425\n",
      "160 noun Ἀχιλλεύς 424 424\n",
      "161 noun δόμος 423 423\n",
      "162 noun τέκνον 421 421\n",
      "163 noun Ἀθήνη 416 416\n",
      "164 verb βουλεύω 415 415\n",
      "165 verb ἀποδίδωμι 414 414\n",
      "166 noun πολίτης 412 412\n",
      "167 noun τέλος 411 407\n",
      "168 noun πατρίς 411 310\n",
      "169 noun δῶμα 407 406\n",
      "170 verb δείδω 406 406\n",
      "171 noun ψυχή 406 406\n",
      "172 noun μῦθος 403 403\n",
      "173 noun ἀρετή 402 402\n",
      "174 verb δέχομαι 402 402\n",
      "175 noun ξένος 400 251\n",
      "176 noun λαός 400 400\n",
      "177 noun βάρβαρος 398 263\n",
      "178 verb κρίνω 395 395\n",
      "179 noun γνώμη 394 394\n",
      "180 verb ἐρῶ 390 390\n",
      "181 noun τύχη 390 390\n",
      "182 verb λείπω 389 389\n",
      "183 verb ἱκνέομαι 387 387\n",
      "184 verb στρατός 383 1\n",
      "184 noun στρατός 383 382\n",
      "185 verb διδάσκω 376 376\n",
      "186 noun δόρυ 376 376\n",
      "187 noun οἰκία 375 375\n",
      "188 verb ἕπομαι 374 374\n",
      "189 noun ἄναξ 373 373\n",
      "190 noun γέρων 367 360\n",
      "191 verb κτείνω 366 366\n",
      "192 noun ἐχθρός 362 125\n",
      "193 verb τίκτω 362 362\n",
      "194 noun πῦρ 361 361\n",
      "195 verb ἀποκτείνω 360 360\n",
      "196 verb λύω 356 356\n",
      "197 verb ἀφίημι 352 352\n",
      "198 noun πολιτεία 351 351\n",
      "199 verb παύω 347 347\n",
      "200 noun ἀνάγκη 347 347\n",
      "201 noun ὕδωρ 347 347\n",
      "202 noun χωρίον 345 345\n",
      "203 verb πλέω 345 345\n",
      "204 verb ἀναιρέω 342 342\n",
      "205 verb πειράω 341 341\n",
      "206 verb χράομαι 340 339\n",
      "207 noun κίνδυνος 340 340\n",
      "208 verb τρέφω 339 339\n",
      "209 noun στρατόπεδον 338 338\n",
      "210 verb ὁρμάω 338 338\n",
      "211 verb εὔχομαι 336 336\n",
      "212 verb ἔοικα 335 335\n",
      "213 noun ὅπλον 334 334\n",
      "214 verb φυλάσσω 334 333\n",
      "215 noun ἐλπίς 334 334\n",
      "216 noun βροτός 334 333\n",
      "217 noun πρέσβυς 333 153\n",
      "218 verb φρονέω 332 332\n",
      "219 verb δράω 330 330\n",
      "220 noun Ἀργεῖος 329 106\n",
      "221 verb παρασκευάζω 329 328\n",
      "222 verb χράω2 328 328\n",
      "223 verb τελευτάω 327 327\n",
      "224 verb διαφθείρω 325 325\n",
      "225 verb παραδίδωμι 324 324\n",
      "226 verb φράζω 322 322\n",
      "227 verb σώζω 319 319\n",
      "228 verb ἐλαύνω 316 316\n",
      "229 noun μέγαρον 314 314\n",
      "230 verb βοηθέω 312 312\n",
      "231 noun ὁδός 312 312\n",
      "232 noun τιμή 309 309\n",
      "233 verb κομίζω 306 306\n",
      "234 noun βία 305 305\n",
      "235 noun Ἀλέξανδρος 304 304\n",
      "236 noun χθών 304 304\n",
      "237 noun αἰτία 303 303\n",
      "238 verb [0] 301 298\n",
      "238 noun [0] 301 1\n",
      "239 verb διαφέρω 299 299\n",
      "240 noun ἔθνος 298 298\n",
      "241 noun ἀγών 298 298\n",
      "242 verb κεφαλή 297 1\n",
      "242 noun κεφαλή 297 296\n",
      "243 verb ὄλλυμι 297 297\n",
      "244 noun ἱερόν 296 296\n",
      "245 verb ἀφαιρέω 294 294\n",
      "246 verb οἰκέω 294 294\n",
      "247 noun ἀγορά 293 293\n",
      "248 verb ἐργάζομαι 292 291\n",
      "249 noun νόος 292 292\n",
      "250 noun ὄρος 289 289\n",
      "251 verb δείκνυμι 288 288\n",
      "252 verb παραγίγνομαι 287 287\n",
      "253 verb λανθάνω 287 287\n",
      "254 noun πόνος 287 287\n",
      "255 noun βοῦς 286 285\n",
      "256 verb ἀνίστημι 285 285\n",
      "257 verb τάσσω 285 285\n",
      "258 noun θεά 285 285\n",
      "259 noun Σωκράτης 284 284\n",
      "260 noun πρᾶξις 283 283\n",
      "261 verb συμφέρω 280 280\n",
      "262 noun ἥλιος 280 280\n",
      "263 verb φιλέω 280 280\n",
      "264 verb κλύω 280 280\n",
      "265 noun πεζός 279 3\n",
      "266 verb τρέπω 276 276\n",
      "267 verb ἀποθνήσκω 275 275\n",
      "268 verb φοβέω 275 275\n",
      "269 noun ἄστυ 275 275\n",
      "270 verb δέω2 275 275\n",
      "271 noun Ἰταλία 274 274\n",
      "272 verb θαυμάζω 274 274\n",
      "273 noun Κορίνθιος 273 227\n",
      "274 verb δηλόω 271 271\n",
      "275 noun δικαστής 271 271\n",
      "276 verb φύω 271 271\n",
      "277 verb οἴχομαι 271 271\n",
      "278 noun ἔγχος 270 270\n",
      "279 verb ὄρνυμι 270 270\n",
      "280 noun κόρη 269 269\n",
      "281 verb ἵημι 268 268\n",
      "282 verb ἀναγκάζω 267 267\n",
      "283 noun Ἄρης 267 266\n",
      "284 verb ἔξεστι 266 266\n",
      "285 noun δαίμων 265 265\n",
      "286 verb μιμνήσκω 263 263\n",
      "287 noun ἦμαρ 263 263\n",
      "288 noun δῶρον 262 262\n",
      "289 verb τιμάω 261 261\n",
      "290 noun αἷμα 261 261\n",
      "291 verb ἀμύνω 260 260\n",
      "292 noun τέχνη 260 260\n",
      "293 verb πολεμέω 259 259\n",
      "294 verb χράω 259 259\n",
      "295 noun νῆσος 259 259\n",
      "296 noun στρατιώτης 259 259\n",
      "297 noun Ἑλλάς 258 254\n",
      "298 verb κατέχω 258 258\n",
      "299 noun φόβος 258 258\n",
      "300 noun Ἀπόλλων 258 258\n",
      "301 verb ἐπίσταμαι 258 258\n",
      "302 noun ὀφθαλμός 258 258\n",
      "303 verb εἰσέρχομαι 257 257\n",
      "304 noun χαλκός 257 257\n",
      "305 noun Καρχηδόνιος 255 247\n",
      "306 verb τελέω 255 255\n",
      "307 noun πύλη 254 254\n",
      "308 verb προσήκω 253 253\n",
      "309 noun μέλας 253 1\n",
      "310 noun Ῥώμη 252 252\n",
      "311 noun ἀργύριον 251 251\n",
      "312 verb κτάομαι 250 250\n",
      "313 noun δοῦλος 249 214\n",
      "314 noun νεκρός 249 145\n",
      "315 verb ὁμολογέω 249 248\n",
      "316 noun Αἴας 247 247\n",
      "317 noun μνηστήρ 245 245\n",
      "318 noun μοῖρα 245 245\n",
      "319 noun Τηλέμαχος 245 245\n",
      "320 noun ἡγεμών 244 244\n",
      "321 verb καταλαμβάνω 243 243\n",
      "322 verb παραλαμβάνω 243 243\n",
      "323 verb ἀμείβω 243 243\n",
      "324 noun δόξα 242 242\n",
      "325 noun κύων 242 242\n",
      "326 verb πιστεύω 241 241\n",
      "327 verb στρατεύω 241 241\n",
      "328 verb αἰσθάνομαι 241 241\n",
      "329 noun Ἀλκιβιάδης 240 240\n",
      "330 noun θύρα 239 238\n",
      "331 noun οἶνος 239 239\n",
      "332 verb πρόσφημι 239 239\n",
      "333 noun Φίλιππος 238 238\n",
      "334 verb διώκω 238 238\n",
      "335 noun φόνος 237 237\n",
      "336 noun ἱερός 237 9\n",
      "337 verb πορεύω 236 235\n",
      "338 verb τολμάω 236 235\n",
      "339 noun ἄρχων 236 236\n",
      "340 verb παρίστημι 234 234\n",
      "341 verb ἐμβάλλω 234 234\n",
      "342 verb πίνω 234 234\n",
      "343 verb προερέω 232 232\n",
      "344 verb κατασκευάζω 231 231\n",
      "345 noun Ἀτρείδης 231 231\n",
      "346 verb νοέω 228 226\n",
      "346 noun νοέω 228 1\n",
      "347 noun οὐρανός 228 228\n",
      "348 verb ὀνομάζω 227 227\n"
     ]
    },
    {
     "name": "stdout",
     "output_type": "stream",
     "text": [
      "349 noun τεῦχος 227 227\n",
      "350 verb ἐφίστημι 226 226\n",
      "351 verb ἀπέρχομαι 225 225\n",
      "352 noun ὕπατος 225 120\n",
      "353 verb τεύχω 224 224\n",
      "354 noun ἐπιτήδειος 223 1\n",
      "355 verb ἁλίσκομαι 223 223\n",
      "356 verb μαρτυρέω 223 223\n",
      "357 noun μένος 222 222\n",
      "358 noun Ἀγαμέμνων 221 221\n",
      "359 noun ὅρκος 221 221\n",
      "360 verb ἄγε 220 1\n",
      "361 noun μάρτυς 219 219\n",
      "362 verb ἐπιμελέομαι 219 219\n",
      "363 verb κατηγορέω 218 218\n",
      "364 verb προσεῖπον 218 218\n",
      "365 verb ζητέω 217 216\n",
      "366 noun πεδίον 217 217\n",
      "367 noun εἰρήνη 216 216\n",
      "368 noun στῆθος 214 214\n",
      "369 noun στρατιά 213 213\n",
      "370 noun σῖτος 213 213\n",
      "371 verb φωνέω 212 212\n",
      "372 verb ἐξέρχομαι 211 211\n",
      "373 verb παρέρχομαι 210 210\n",
      "374 noun πόντος 210 210\n",
      "375 noun δεσπότης 210 210\n",
      "376 noun Μενέλαος 210 210\n",
      "377 verb αἴρω 209 209\n",
      "378 verb ἐπιτίθημι 209 209\n",
      "379 noun φωνή 209 209\n",
      "380 verb πολιορκέω 207 207\n",
      "381 noun τάλαντον 206 206\n",
      "382 verb συνίστημι 205 205\n",
      "383 noun Κροῖσος 205 205\n",
      "384 verb παρακαλέω 205 205\n",
      "385 verb ἐπέρχομαι 204 204\n",
      "386 verb ἀποδείκνυμι 203 203\n",
      "387 verb προστίθημι 203 203\n",
      "388 verb κωλύω 203 203\n",
      "389 noun χρεία 203 203\n",
      "390 noun ὦμος 203 203\n",
      "391 noun συμφορά 202 202\n",
      "392 noun γάμος 201 201\n",
      "393 verb ἀποκρίνω 200 200\n",
      "394 verb φάσκω 200 200\n",
      "395 noun ἡδονή 199 199\n",
      "396 verb ἁμαρτάνω 198 198\n",
      "397 verb κινέω 197 197\n",
      "398 verb προσαυδάω 197 197\n",
      "399 verb καταλιμπάνω 196 196\n",
      "400 verb χωρέω 194 194\n"
     ]
    }
   ],
   "source": [
    "print(len(lemmalist))\n",
    "i = 0\n",
    "for foo in sorted(lemmalist,key=lemmalist.get,reverse=True):\n",
    "    if(not foo in verblist and not foo in nounlist):\n",
    "        continue\n",
    "    i = i + 1\n",
    "    if(i> 400):\n",
    "        break\n",
    "    if(foo in verblist):\n",
    "        print(i,'verb',foo,lemmalist[foo],verblist[foo])\n",
    "    if(foo in nounlist):\n",
    "        print(i,'noun',foo,lemmalist[foo],nounlist[foo])\n"
   ]
  },
  {
   "cell_type": "code",
   "execution_count": 27,
   "metadata": {},
   "outputs": [
    {
     "name": "stdout",
     "output_type": "stream",
     "text": [
      "ποιέω 3550\n",
      "προσποιέω 56\n",
      "ἀντιποιέω 33\n",
      "ἐμποιέω 27\n",
      "περιποιέω 25\n",
      "παιδοποιέω 15\n",
      "δειπνοποιέω 13\n",
      "ἀριστοποιέω 9\n",
      "λογοποιέω 8\n",
      "μεταποιέω 6\n",
      "καινοποιέω 6\n",
      "κακοποιέω 6\n",
      "εἰσποιέω 5\n",
      "ἐκποιέω 4\n",
      "τεκνοποιέω 4\n",
      "ἱεροποιέω 3\n",
      "σωματοποιέω 3\n",
      "μελοποιέω 2\n",
      "παραποιέω 2\n",
      "σκηνοποιέω 2\n",
      "σιτοποιέω 2\n",
      "προποιέω 2\n",
      "χειροποιέω 1\n",
      "ἰσχυροποιέω 1\n",
      "συμποιέω 1\n",
      "συντεκνοποιέω 1\n",
      "ἀνδριαντοποιέω 1\n",
      "γελωτοποιέω 1\n",
      "ὁδοποιέω 1\n",
      "προῳδοπεποιέω 1\n",
      "σπονδοποιέομαι 1\n",
      "σκευοποιέω 1\n",
      "κοινοποιέω 1\n",
      "συμπεριποιέω 1\n",
      "προσλογοποιέω 1\n",
      "προοδοποιέω 1\n",
      "συνεκποιέω 1\n",
      "ὀχυροποιέομαι 1\n",
      "δογματοποιέω 1\n"
     ]
    }
   ],
   "source": [
    "for foo in sorted(lemmalist,key=lemmalist.get,reverse=True):\n",
    "    if( re.search('ποιέ(ω|ομαι)',foo)):\n",
    "       print(foo,lemmalist[foo])"
   ]
  },
  {
   "cell_type": "code",
   "execution_count": 82,
   "metadata": {},
   "outputs": [
    {
     "data": {
      "text/plain": [
       "297"
      ]
     },
     "execution_count": 82,
     "metadata": {},
     "output_type": "execute_result"
    }
   ],
   "source": [
    "lemmalist['κεφαλή']"
   ]
  },
  {
   "cell_type": "code",
   "execution_count": 27,
   "metadata": {},
   "outputs": [
    {
     "name": "stdout",
     "output_type": "stream",
     "text": [
      "authors 49\n",
      "206454 ['Homer', '-775c', '-700c', 'poetry', 'hexameter', 'tlg0012', 206454]\n",
      "302889 ['Polybius', '-200', '-118', 'prose', 'history', 'tlg0543', 96435]\n",
      "391624 ['Xenophon', '-430c', '-354', 'prose', 'history', 'tlg0032', 88735]\n",
      "450283 ['Demosthenes', '-384', '-322', 'prose', 'orator', 'tlg0014', 58659]\n",
      "502288 ['Thucydides', '-460c', '-400c', 'prose', 'history', 'tlg0003', 52005]\n",
      "545257 ['Sophocles', '-497', '-406', 'poetry', 'drama', 'tlg0011', 42969]\n",
      "586303 ['Aeschylus', '-525c', '-455c', 'poetry', 'drama', 'tlg0085', 41046]\n",
      "626942 ['Athenaeus', '170', '223', 'prose', 'misc', 'tlg0008', 40639]\n",
      "660209 ['Plutarch', '46', '119', 'prose', 'history', 'tlg0007', 33267]\n",
      "690510 ['Herodotus', '-484c', '-425c', 'prose', 'history', 'tlg0016', 30301]\n",
      "718127 ['Dionysius of Halicarnassus', '-60c', '-7c', 'prose', 'history', 'tlg0081', 27617]\n",
      "744543 ['Procopius', '500', '565', 'prose', 'history', 'tlg4029', 26416]\n",
      "767914 ['Diodorus Siculus', '-90c', '-30c', 'prose', 'history', 'tlg0060', 23371]\n",
      "790926 ['Appian', '-490', '-411', 'prose', 'history', 'tlg0551', 23012]\n",
      "813671 ['Josephus', '37', '100c', 'prose', 'history', 'tlg0526', 22745]\n",
      "835302 ['Lysias', '-445c', '-380c', 'prose', 'orator', 'tlg0540', 21631]\n",
      "854029 ['Septuagint', '-250', '-100', 'prose', 'bible', 'tlg0527', 18727]\n",
      "871661 ['Aristotle', '-384', '-322', 'prose', 'philosophy', 'tlg0086', 17632]\n",
      "888401 ['Hesiod', '-750', '-650', 'poetry', 'hexameter', 'tlg0020', 16740]\n",
      "903828 ['Aristophanes', '-446', '-386', 'poetry', 'drama', 'tlg0019', 15427]\n",
      "918976 ['Plato', '-428c', '-347c', 'prose', 'philosophy', 'tlg0059', 15148]\n",
      "933465 ['Antiphon', '-490', '-411', 'prose', 'orator', 'tlg0028', 14489]\n",
      "947851 ['Sextus Empiricus', '150', '250', 'prose', 'philosophy', 'tlg0544', 14386]\n",
      "962090 ['Aeschines', '-389', '-314', 'prose', 'orator', 'tlg0026', 14239]\n",
      "983174 ['Pseudo-Lucian', '201', '400', 'prose', 'misc', 'tlg0061', 9917]\n",
      "992452 ['Heron of Alexandria', '10', '70', 'prose', 'misc', 'tlg0559', 9278]\n",
      "1001024 ['Euripides', '-480c', '-406c', 'poetry', 'drama', 'tlg0006', 8572]\n",
      "1009293 ['Lucian', '125', '180', 'prose', 'misc', 'tlg0062', 8269]\n",
      "1016397 ['Theophrastus', '-371', '-287', 'prose', 'philosophy', 'tlg0093', 7104]\n",
      "1023298 ['Menander', '-342', '-291', 'poetry', 'drama', 'tlg0541', 6901]\n",
      "1029776 ['Aeneas Tacticus', '301', '400', 'prose', 'misc', 'tlg0058', 6478]\n",
      "1036043 ['Epictetus', '50', '135', 'prose', 'philosopy', 'tlg0557', 6267]\n",
      "1041697 ['Paeanius', '301', '400', 'prose', 'misc', 'tlgX208', 5654]\n",
      "1046987 ['Chariton', '101', '200', 'prose', 'misc', 'tlg0554', 5290]\n",
      "1051991 ['Phlegon', '151', '200', 'prose', 'misc', 'tlg0585', 5004]\n",
      "1056891 ['Chionis Epistulae', '1', '200', 'prose', 'misc', 'tlg0041', 4900]\n",
      "1061095 ['Sappho', '-630', '-570', 'poetry', 'lyreleg', 'tlg0009', 4204]\n",
      "1064502 ['Homeric Hymns', '-650', '-450', 'poetry', 'hexameter', 'tlg0013', 3407]\n",
      "1066422 ['Batrachomyomachia', '-100', '-1', 'poetry', 'hexameter', 'tlg1220', 1920]\n",
      "1068068 ['Ezechiel the Tragic Poet', '-200', '-101', 'poetry', 'tlg0343', 1646]\n",
      "1069428 ['Epicurus', '-341', '-270', 'prose', 'philosophy', 'tlg0537', 1360]\n",
      "1070718 ['Aesop', '-620', '-564', 'prose', 'tlg0096', 1290]\n",
      "1071973 ['Julian the Apostate', '331', '363', 'prose', 'misc', 'tlg2003', 1255]\n",
      "1072633 ['Semonides', '-700', '-601', 'poetry', 'lyreleg', 'tlg0260', 660]\n",
      "1073215 ['Longus', '101', '200', 'prose', 'misc', 'tlg0561', 582]\n",
      "1073638 ['Isocrates', '-436', '-338', 'prose', 'orator', 'tlg0010', 423]\n",
      "1073901 ['Theocritus', '-300', '-255', 'poetry', 'hexameter', 'tlg0005', 263]\n",
      "1074082 ['Mimnermus', '-650', '-600', 'poetry', 'lyreleg', 'tlg0255', 181]\n",
      "1074106 ['Corpus Hippocraticum', '-450', '-350', 'prose', 'misc', 'tlg0627', 24]\n"
     ]
    }
   ],
   "source": [
    "sofar = 0\n",
    "print('authors',len(persids))\n",
    "totres = []\n",
    "for foo in sorted(authorwordcnt,key=authorwordcnt.get,reverse=True):\n",
    "    sofar = sofar + authorwordcnt[foo]\n",
    "    if(foo in authinfo):\n",
    "        extrainfo = authinfo[foo]\n",
    "    else:\n",
    "        extrainfo = 'noinfo'\n",
    "    if(re.search('papyri',foo)):\n",
    "        continue\n",
    "    currec = extrainfo.split(',')\n",
    "    currec.append(foo)\n",
    "    currec.append(authorwordcnt[foo])\n",
    "    totres.append(currec)\n",
    "    print(sofar,currec)\n",
    "    labels = ['textgroup','start','end','prose/poetry','genre','id','words']"
   ]
  },
  {
   "cell_type": "code",
   "execution_count": 28,
   "metadata": {},
   "outputs": [
    {
     "data": {
      "text/html": [
       "<div>\n",
       "<style scoped>\n",
       "    .dataframe tbody tr th:only-of-type {\n",
       "        vertical-align: middle;\n",
       "    }\n",
       "\n",
       "    .dataframe tbody tr th {\n",
       "        vertical-align: top;\n",
       "    }\n",
       "\n",
       "    .dataframe thead th {\n",
       "        text-align: right;\n",
       "    }\n",
       "</style>\n",
       "<table border=\"1\" class=\"dataframe\">\n",
       "  <thead>\n",
       "    <tr style=\"text-align: right;\">\n",
       "      <th></th>\n",
       "      <th>textgroup</th>\n",
       "      <th>start</th>\n",
       "      <th>end</th>\n",
       "      <th>prose/poetry</th>\n",
       "      <th>genre</th>\n",
       "      <th>id</th>\n",
       "      <th>words</th>\n",
       "    </tr>\n",
       "  </thead>\n",
       "  <tbody>\n",
       "    <tr>\n",
       "      <th>0</th>\n",
       "      <td>Homer</td>\n",
       "      <td>-775c</td>\n",
       "      <td>-700c</td>\n",
       "      <td>poetry</td>\n",
       "      <td>hexameter</td>\n",
       "      <td>tlg0012</td>\n",
       "      <td>206454.0</td>\n",
       "    </tr>\n",
       "    <tr>\n",
       "      <th>1</th>\n",
       "      <td>Polybius</td>\n",
       "      <td>-200</td>\n",
       "      <td>-118</td>\n",
       "      <td>prose</td>\n",
       "      <td>history</td>\n",
       "      <td>tlg0543</td>\n",
       "      <td>96435.0</td>\n",
       "    </tr>\n",
       "    <tr>\n",
       "      <th>2</th>\n",
       "      <td>Xenophon</td>\n",
       "      <td>-430c</td>\n",
       "      <td>-354</td>\n",
       "      <td>prose</td>\n",
       "      <td>history</td>\n",
       "      <td>tlg0032</td>\n",
       "      <td>88735.0</td>\n",
       "    </tr>\n",
       "    <tr>\n",
       "      <th>3</th>\n",
       "      <td>Demosthenes</td>\n",
       "      <td>-384</td>\n",
       "      <td>-322</td>\n",
       "      <td>prose</td>\n",
       "      <td>orator</td>\n",
       "      <td>tlg0014</td>\n",
       "      <td>58659.0</td>\n",
       "    </tr>\n",
       "    <tr>\n",
       "      <th>4</th>\n",
       "      <td>Thucydides</td>\n",
       "      <td>-460c</td>\n",
       "      <td>-400c</td>\n",
       "      <td>prose</td>\n",
       "      <td>history</td>\n",
       "      <td>tlg0003</td>\n",
       "      <td>52005.0</td>\n",
       "    </tr>\n",
       "    <tr>\n",
       "      <th>5</th>\n",
       "      <td>Sophocles</td>\n",
       "      <td>-497</td>\n",
       "      <td>-406</td>\n",
       "      <td>poetry</td>\n",
       "      <td>drama</td>\n",
       "      <td>tlg0011</td>\n",
       "      <td>42969.0</td>\n",
       "    </tr>\n",
       "    <tr>\n",
       "      <th>6</th>\n",
       "      <td>Aeschylus</td>\n",
       "      <td>-525c</td>\n",
       "      <td>-455c</td>\n",
       "      <td>poetry</td>\n",
       "      <td>drama</td>\n",
       "      <td>tlg0085</td>\n",
       "      <td>41046.0</td>\n",
       "    </tr>\n",
       "    <tr>\n",
       "      <th>7</th>\n",
       "      <td>Athenaeus</td>\n",
       "      <td>170</td>\n",
       "      <td>223</td>\n",
       "      <td>prose</td>\n",
       "      <td>misc</td>\n",
       "      <td>tlg0008</td>\n",
       "      <td>40639.0</td>\n",
       "    </tr>\n",
       "    <tr>\n",
       "      <th>8</th>\n",
       "      <td>Plutarch</td>\n",
       "      <td>46</td>\n",
       "      <td>119</td>\n",
       "      <td>prose</td>\n",
       "      <td>history</td>\n",
       "      <td>tlg0007</td>\n",
       "      <td>33267.0</td>\n",
       "    </tr>\n",
       "    <tr>\n",
       "      <th>9</th>\n",
       "      <td>Herodotus</td>\n",
       "      <td>-484c</td>\n",
       "      <td>-425c</td>\n",
       "      <td>prose</td>\n",
       "      <td>history</td>\n",
       "      <td>tlg0016</td>\n",
       "      <td>30301.0</td>\n",
       "    </tr>\n",
       "    <tr>\n",
       "      <th>10</th>\n",
       "      <td>Dionysius of Halicarnassus</td>\n",
       "      <td>-60c</td>\n",
       "      <td>-7c</td>\n",
       "      <td>prose</td>\n",
       "      <td>history</td>\n",
       "      <td>tlg0081</td>\n",
       "      <td>27617.0</td>\n",
       "    </tr>\n",
       "    <tr>\n",
       "      <th>11</th>\n",
       "      <td>Procopius</td>\n",
       "      <td>500</td>\n",
       "      <td>565</td>\n",
       "      <td>prose</td>\n",
       "      <td>history</td>\n",
       "      <td>tlg4029</td>\n",
       "      <td>26416.0</td>\n",
       "    </tr>\n",
       "    <tr>\n",
       "      <th>12</th>\n",
       "      <td>Diodorus Siculus</td>\n",
       "      <td>-90c</td>\n",
       "      <td>-30c</td>\n",
       "      <td>prose</td>\n",
       "      <td>history</td>\n",
       "      <td>tlg0060</td>\n",
       "      <td>23371.0</td>\n",
       "    </tr>\n",
       "    <tr>\n",
       "      <th>13</th>\n",
       "      <td>Appian</td>\n",
       "      <td>-490</td>\n",
       "      <td>-411</td>\n",
       "      <td>prose</td>\n",
       "      <td>history</td>\n",
       "      <td>tlg0551</td>\n",
       "      <td>23012.0</td>\n",
       "    </tr>\n",
       "    <tr>\n",
       "      <th>14</th>\n",
       "      <td>Josephus</td>\n",
       "      <td>37</td>\n",
       "      <td>100c</td>\n",
       "      <td>prose</td>\n",
       "      <td>history</td>\n",
       "      <td>tlg0526</td>\n",
       "      <td>22745.0</td>\n",
       "    </tr>\n",
       "    <tr>\n",
       "      <th>15</th>\n",
       "      <td>Lysias</td>\n",
       "      <td>-445c</td>\n",
       "      <td>-380c</td>\n",
       "      <td>prose</td>\n",
       "      <td>orator</td>\n",
       "      <td>tlg0540</td>\n",
       "      <td>21631.0</td>\n",
       "    </tr>\n",
       "    <tr>\n",
       "      <th>16</th>\n",
       "      <td>Septuagint</td>\n",
       "      <td>-250</td>\n",
       "      <td>-100</td>\n",
       "      <td>prose</td>\n",
       "      <td>bible</td>\n",
       "      <td>tlg0527</td>\n",
       "      <td>18727.0</td>\n",
       "    </tr>\n",
       "    <tr>\n",
       "      <th>17</th>\n",
       "      <td>Aristotle</td>\n",
       "      <td>-384</td>\n",
       "      <td>-322</td>\n",
       "      <td>prose</td>\n",
       "      <td>philosophy</td>\n",
       "      <td>tlg0086</td>\n",
       "      <td>17632.0</td>\n",
       "    </tr>\n",
       "    <tr>\n",
       "      <th>18</th>\n",
       "      <td>Hesiod</td>\n",
       "      <td>-750</td>\n",
       "      <td>-650</td>\n",
       "      <td>poetry</td>\n",
       "      <td>hexameter</td>\n",
       "      <td>tlg0020</td>\n",
       "      <td>16740.0</td>\n",
       "    </tr>\n",
       "    <tr>\n",
       "      <th>19</th>\n",
       "      <td>Aristophanes</td>\n",
       "      <td>-446</td>\n",
       "      <td>-386</td>\n",
       "      <td>poetry</td>\n",
       "      <td>drama</td>\n",
       "      <td>tlg0019</td>\n",
       "      <td>15427.0</td>\n",
       "    </tr>\n",
       "    <tr>\n",
       "      <th>20</th>\n",
       "      <td>Plato</td>\n",
       "      <td>-428c</td>\n",
       "      <td>-347c</td>\n",
       "      <td>prose</td>\n",
       "      <td>philosophy</td>\n",
       "      <td>tlg0059</td>\n",
       "      <td>15148.0</td>\n",
       "    </tr>\n",
       "    <tr>\n",
       "      <th>21</th>\n",
       "      <td>Antiphon</td>\n",
       "      <td>-490</td>\n",
       "      <td>-411</td>\n",
       "      <td>prose</td>\n",
       "      <td>orator</td>\n",
       "      <td>tlg0028</td>\n",
       "      <td>14489.0</td>\n",
       "    </tr>\n",
       "    <tr>\n",
       "      <th>22</th>\n",
       "      <td>Sextus Empiricus</td>\n",
       "      <td>150</td>\n",
       "      <td>250</td>\n",
       "      <td>prose</td>\n",
       "      <td>philosophy</td>\n",
       "      <td>tlg0544</td>\n",
       "      <td>14386.0</td>\n",
       "    </tr>\n",
       "    <tr>\n",
       "      <th>23</th>\n",
       "      <td>Aeschines</td>\n",
       "      <td>-389</td>\n",
       "      <td>-314</td>\n",
       "      <td>prose</td>\n",
       "      <td>orator</td>\n",
       "      <td>tlg0026</td>\n",
       "      <td>14239.0</td>\n",
       "    </tr>\n",
       "    <tr>\n",
       "      <th>24</th>\n",
       "      <td>Pseudo-Lucian</td>\n",
       "      <td>201</td>\n",
       "      <td>400</td>\n",
       "      <td>prose</td>\n",
       "      <td>misc</td>\n",
       "      <td>tlg0061</td>\n",
       "      <td>9917.0</td>\n",
       "    </tr>\n",
       "    <tr>\n",
       "      <th>25</th>\n",
       "      <td>Heron of Alexandria</td>\n",
       "      <td>10</td>\n",
       "      <td>70</td>\n",
       "      <td>prose</td>\n",
       "      <td>misc</td>\n",
       "      <td>tlg0559</td>\n",
       "      <td>9278.0</td>\n",
       "    </tr>\n",
       "    <tr>\n",
       "      <th>26</th>\n",
       "      <td>Euripides</td>\n",
       "      <td>-480c</td>\n",
       "      <td>-406c</td>\n",
       "      <td>poetry</td>\n",
       "      <td>drama</td>\n",
       "      <td>tlg0006</td>\n",
       "      <td>8572.0</td>\n",
       "    </tr>\n",
       "    <tr>\n",
       "      <th>27</th>\n",
       "      <td>Lucian</td>\n",
       "      <td>125</td>\n",
       "      <td>180</td>\n",
       "      <td>prose</td>\n",
       "      <td>misc</td>\n",
       "      <td>tlg0062</td>\n",
       "      <td>8269.0</td>\n",
       "    </tr>\n",
       "    <tr>\n",
       "      <th>28</th>\n",
       "      <td>Theophrastus</td>\n",
       "      <td>-371</td>\n",
       "      <td>-287</td>\n",
       "      <td>prose</td>\n",
       "      <td>philosophy</td>\n",
       "      <td>tlg0093</td>\n",
       "      <td>7104.0</td>\n",
       "    </tr>\n",
       "    <tr>\n",
       "      <th>29</th>\n",
       "      <td>Menander</td>\n",
       "      <td>-342</td>\n",
       "      <td>-291</td>\n",
       "      <td>poetry</td>\n",
       "      <td>drama</td>\n",
       "      <td>tlg0541</td>\n",
       "      <td>6901.0</td>\n",
       "    </tr>\n",
       "    <tr>\n",
       "      <th>30</th>\n",
       "      <td>Aeneas Tacticus</td>\n",
       "      <td>301</td>\n",
       "      <td>400</td>\n",
       "      <td>prose</td>\n",
       "      <td>misc</td>\n",
       "      <td>tlg0058</td>\n",
       "      <td>6478.0</td>\n",
       "    </tr>\n",
       "    <tr>\n",
       "      <th>31</th>\n",
       "      <td>Epictetus</td>\n",
       "      <td>50</td>\n",
       "      <td>135</td>\n",
       "      <td>prose</td>\n",
       "      <td>philosopy</td>\n",
       "      <td>tlg0557</td>\n",
       "      <td>6267.0</td>\n",
       "    </tr>\n",
       "    <tr>\n",
       "      <th>32</th>\n",
       "      <td>Paeanius</td>\n",
       "      <td>301</td>\n",
       "      <td>400</td>\n",
       "      <td>prose</td>\n",
       "      <td>misc</td>\n",
       "      <td>tlgX208</td>\n",
       "      <td>5654.0</td>\n",
       "    </tr>\n",
       "    <tr>\n",
       "      <th>33</th>\n",
       "      <td>Chariton</td>\n",
       "      <td>101</td>\n",
       "      <td>200</td>\n",
       "      <td>prose</td>\n",
       "      <td>misc</td>\n",
       "      <td>tlg0554</td>\n",
       "      <td>5290.0</td>\n",
       "    </tr>\n",
       "    <tr>\n",
       "      <th>34</th>\n",
       "      <td>Phlegon</td>\n",
       "      <td>151</td>\n",
       "      <td>200</td>\n",
       "      <td>prose</td>\n",
       "      <td>misc</td>\n",
       "      <td>tlg0585</td>\n",
       "      <td>5004.0</td>\n",
       "    </tr>\n",
       "    <tr>\n",
       "      <th>35</th>\n",
       "      <td>Chionis Epistulae</td>\n",
       "      <td>1</td>\n",
       "      <td>200</td>\n",
       "      <td>prose</td>\n",
       "      <td>misc</td>\n",
       "      <td>tlg0041</td>\n",
       "      <td>4900.0</td>\n",
       "    </tr>\n",
       "    <tr>\n",
       "      <th>36</th>\n",
       "      <td>Sappho</td>\n",
       "      <td>-630</td>\n",
       "      <td>-570</td>\n",
       "      <td>poetry</td>\n",
       "      <td>lyreleg</td>\n",
       "      <td>tlg0009</td>\n",
       "      <td>4204.0</td>\n",
       "    </tr>\n",
       "    <tr>\n",
       "      <th>37</th>\n",
       "      <td>Homeric Hymns</td>\n",
       "      <td>-650</td>\n",
       "      <td>-450</td>\n",
       "      <td>poetry</td>\n",
       "      <td>hexameter</td>\n",
       "      <td>tlg0013</td>\n",
       "      <td>3407.0</td>\n",
       "    </tr>\n",
       "    <tr>\n",
       "      <th>38</th>\n",
       "      <td>Batrachomyomachia</td>\n",
       "      <td>-100</td>\n",
       "      <td>-1</td>\n",
       "      <td>poetry</td>\n",
       "      <td>hexameter</td>\n",
       "      <td>tlg1220</td>\n",
       "      <td>1920.0</td>\n",
       "    </tr>\n",
       "    <tr>\n",
       "      <th>39</th>\n",
       "      <td>Ezechiel the Tragic Poet</td>\n",
       "      <td>-200</td>\n",
       "      <td>-101</td>\n",
       "      <td>poetry</td>\n",
       "      <td>tlg0343</td>\n",
       "      <td>1646</td>\n",
       "      <td>NaN</td>\n",
       "    </tr>\n",
       "    <tr>\n",
       "      <th>40</th>\n",
       "      <td>Epicurus</td>\n",
       "      <td>-341</td>\n",
       "      <td>-270</td>\n",
       "      <td>prose</td>\n",
       "      <td>philosophy</td>\n",
       "      <td>tlg0537</td>\n",
       "      <td>1360.0</td>\n",
       "    </tr>\n",
       "    <tr>\n",
       "      <th>41</th>\n",
       "      <td>Aesop</td>\n",
       "      <td>-620</td>\n",
       "      <td>-564</td>\n",
       "      <td>prose</td>\n",
       "      <td>tlg0096</td>\n",
       "      <td>1290</td>\n",
       "      <td>NaN</td>\n",
       "    </tr>\n",
       "    <tr>\n",
       "      <th>42</th>\n",
       "      <td>Julian the Apostate</td>\n",
       "      <td>331</td>\n",
       "      <td>363</td>\n",
       "      <td>prose</td>\n",
       "      <td>misc</td>\n",
       "      <td>tlg2003</td>\n",
       "      <td>1255.0</td>\n",
       "    </tr>\n",
       "    <tr>\n",
       "      <th>43</th>\n",
       "      <td>Semonides</td>\n",
       "      <td>-700</td>\n",
       "      <td>-601</td>\n",
       "      <td>poetry</td>\n",
       "      <td>lyreleg</td>\n",
       "      <td>tlg0260</td>\n",
       "      <td>660.0</td>\n",
       "    </tr>\n",
       "    <tr>\n",
       "      <th>44</th>\n",
       "      <td>Longus</td>\n",
       "      <td>101</td>\n",
       "      <td>200</td>\n",
       "      <td>prose</td>\n",
       "      <td>misc</td>\n",
       "      <td>tlg0561</td>\n",
       "      <td>582.0</td>\n",
       "    </tr>\n",
       "    <tr>\n",
       "      <th>45</th>\n",
       "      <td>Isocrates</td>\n",
       "      <td>-436</td>\n",
       "      <td>-338</td>\n",
       "      <td>prose</td>\n",
       "      <td>orator</td>\n",
       "      <td>tlg0010</td>\n",
       "      <td>423.0</td>\n",
       "    </tr>\n",
       "    <tr>\n",
       "      <th>46</th>\n",
       "      <td>Theocritus</td>\n",
       "      <td>-300</td>\n",
       "      <td>-255</td>\n",
       "      <td>poetry</td>\n",
       "      <td>hexameter</td>\n",
       "      <td>tlg0005</td>\n",
       "      <td>263.0</td>\n",
       "    </tr>\n",
       "    <tr>\n",
       "      <th>47</th>\n",
       "      <td>Mimnermus</td>\n",
       "      <td>-650</td>\n",
       "      <td>-600</td>\n",
       "      <td>poetry</td>\n",
       "      <td>lyreleg</td>\n",
       "      <td>tlg0255</td>\n",
       "      <td>181.0</td>\n",
       "    </tr>\n",
       "    <tr>\n",
       "      <th>48</th>\n",
       "      <td>Corpus Hippocraticum</td>\n",
       "      <td>-450</td>\n",
       "      <td>-350</td>\n",
       "      <td>prose</td>\n",
       "      <td>misc</td>\n",
       "      <td>tlg0627</td>\n",
       "      <td>24.0</td>\n",
       "    </tr>\n",
       "  </tbody>\n",
       "</table>\n",
       "</div>"
      ],
      "text/plain": [
       "                     textgroup  start    end prose/poetry       genre  \\\n",
       "0                        Homer  -775c  -700c       poetry   hexameter   \n",
       "1                     Polybius   -200   -118        prose     history   \n",
       "2                     Xenophon  -430c   -354        prose     history   \n",
       "3                  Demosthenes   -384   -322        prose      orator   \n",
       "4                   Thucydides  -460c  -400c        prose     history   \n",
       "5                    Sophocles   -497   -406       poetry       drama   \n",
       "6                    Aeschylus  -525c  -455c       poetry       drama   \n",
       "7                    Athenaeus    170    223        prose        misc   \n",
       "8                     Plutarch     46    119        prose     history   \n",
       "9                    Herodotus  -484c  -425c        prose     history   \n",
       "10  Dionysius of Halicarnassus   -60c    -7c        prose     history   \n",
       "11                   Procopius    500    565        prose     history   \n",
       "12            Diodorus Siculus   -90c   -30c        prose     history   \n",
       "13                      Appian   -490   -411        prose     history   \n",
       "14                    Josephus     37   100c        prose     history   \n",
       "15                      Lysias  -445c  -380c        prose      orator   \n",
       "16                  Septuagint   -250   -100        prose       bible   \n",
       "17                   Aristotle   -384   -322        prose  philosophy   \n",
       "18                      Hesiod   -750   -650       poetry   hexameter   \n",
       "19                Aristophanes   -446   -386       poetry       drama   \n",
       "20                       Plato  -428c  -347c        prose  philosophy   \n",
       "21                    Antiphon   -490   -411        prose      orator   \n",
       "22            Sextus Empiricus    150    250        prose  philosophy   \n",
       "23                   Aeschines   -389   -314        prose      orator   \n",
       "24               Pseudo-Lucian    201    400        prose        misc   \n",
       "25         Heron of Alexandria     10     70        prose        misc   \n",
       "26                   Euripides  -480c  -406c       poetry       drama   \n",
       "27                      Lucian    125    180        prose        misc   \n",
       "28                Theophrastus   -371   -287        prose  philosophy   \n",
       "29                    Menander   -342   -291       poetry       drama   \n",
       "30             Aeneas Tacticus    301    400        prose        misc   \n",
       "31                   Epictetus     50    135        prose   philosopy   \n",
       "32                    Paeanius    301    400        prose        misc   \n",
       "33                    Chariton    101    200        prose        misc   \n",
       "34                     Phlegon    151    200        prose        misc   \n",
       "35           Chionis Epistulae      1    200        prose        misc   \n",
       "36                      Sappho   -630   -570       poetry     lyreleg   \n",
       "37               Homeric Hymns   -650   -450       poetry   hexameter   \n",
       "38           Batrachomyomachia   -100     -1       poetry   hexameter   \n",
       "39    Ezechiel the Tragic Poet   -200   -101       poetry     tlg0343   \n",
       "40                    Epicurus   -341   -270        prose  philosophy   \n",
       "41                       Aesop   -620   -564        prose     tlg0096   \n",
       "42         Julian the Apostate    331    363        prose        misc   \n",
       "43                   Semonides   -700   -601       poetry     lyreleg   \n",
       "44                      Longus    101    200        prose        misc   \n",
       "45                   Isocrates   -436   -338        prose      orator   \n",
       "46                  Theocritus   -300   -255       poetry   hexameter   \n",
       "47                   Mimnermus   -650   -600       poetry     lyreleg   \n",
       "48        Corpus Hippocraticum   -450   -350        prose        misc   \n",
       "\n",
       "         id     words  \n",
       "0   tlg0012  206454.0  \n",
       "1   tlg0543   96435.0  \n",
       "2   tlg0032   88735.0  \n",
       "3   tlg0014   58659.0  \n",
       "4   tlg0003   52005.0  \n",
       "5   tlg0011   42969.0  \n",
       "6   tlg0085   41046.0  \n",
       "7   tlg0008   40639.0  \n",
       "8   tlg0007   33267.0  \n",
       "9   tlg0016   30301.0  \n",
       "10  tlg0081   27617.0  \n",
       "11  tlg4029   26416.0  \n",
       "12  tlg0060   23371.0  \n",
       "13  tlg0551   23012.0  \n",
       "14  tlg0526   22745.0  \n",
       "15  tlg0540   21631.0  \n",
       "16  tlg0527   18727.0  \n",
       "17  tlg0086   17632.0  \n",
       "18  tlg0020   16740.0  \n",
       "19  tlg0019   15427.0  \n",
       "20  tlg0059   15148.0  \n",
       "21  tlg0028   14489.0  \n",
       "22  tlg0544   14386.0  \n",
       "23  tlg0026   14239.0  \n",
       "24  tlg0061    9917.0  \n",
       "25  tlg0559    9278.0  \n",
       "26  tlg0006    8572.0  \n",
       "27  tlg0062    8269.0  \n",
       "28  tlg0093    7104.0  \n",
       "29  tlg0541    6901.0  \n",
       "30  tlg0058    6478.0  \n",
       "31  tlg0557    6267.0  \n",
       "32  tlgX208    5654.0  \n",
       "33  tlg0554    5290.0  \n",
       "34  tlg0585    5004.0  \n",
       "35  tlg0041    4900.0  \n",
       "36  tlg0009    4204.0  \n",
       "37  tlg0013    3407.0  \n",
       "38  tlg1220    1920.0  \n",
       "39     1646       NaN  \n",
       "40  tlg0537    1360.0  \n",
       "41     1290       NaN  \n",
       "42  tlg2003    1255.0  \n",
       "43  tlg0260     660.0  \n",
       "44  tlg0561     582.0  \n",
       "45  tlg0010     423.0  \n",
       "46  tlg0005     263.0  \n",
       "47  tlg0255     181.0  \n",
       "48  tlg0627      24.0  "
      ]
     },
     "execution_count": 28,
     "metadata": {},
     "output_type": "execute_result"
    }
   ],
   "source": [
    "import pandas as pd\n",
    "\n",
    "df = pd.DataFrame(totres,columns=labels)\n",
    "df"
   ]
  },
  {
   "cell_type": "code",
   "execution_count": 30,
   "metadata": {},
   "outputs": [
    {
     "data": {
      "application/vnd.plotly.v1+json": {
       "config": {
        "plotlyServerURL": "https://plot.ly"
       },
       "data": [
        {
         "branchvalues": "total",
         "domain": {
          "x": [
           0,
           1
          ],
          "y": [
           0,
           1
          ]
         },
         "hovertemplate": "labels=%{label}<br>words=%{value}<br>parent=%{parent}<br>id=%{id}<extra></extra>",
         "ids": [
          "prose/misc/Aeneas Tacticus",
          "prose/orator/Aeschines",
          "poetry/drama/Aeschylus",
          "prose/tlg0096/Aesop",
          "prose/orator/Antiphon",
          "prose/history/Appian",
          "poetry/drama/Aristophanes",
          "prose/philosophy/Aristotle",
          "prose/misc/Athenaeus",
          "poetry/hexameter/Batrachomyomachia",
          "prose/misc/Chariton",
          "prose/misc/Chionis Epistulae",
          "prose/misc/Corpus Hippocraticum",
          "prose/orator/Demosthenes",
          "prose/history/Diodorus Siculus",
          "prose/history/Dionysius of Halicarnassus",
          "prose/philosopy/Epictetus",
          "prose/philosophy/Epicurus",
          "poetry/drama/Euripides",
          "poetry/tlg0343/Ezechiel the Tragic Poet",
          "prose/history/Herodotus",
          "prose/misc/Heron of Alexandria",
          "poetry/hexameter/Hesiod",
          "poetry/hexameter/Homer",
          "poetry/hexameter/Homeric Hymns",
          "prose/orator/Isocrates",
          "prose/history/Josephus",
          "prose/misc/Julian the Apostate",
          "prose/misc/Longus",
          "prose/misc/Lucian",
          "prose/orator/Lysias",
          "poetry/drama/Menander",
          "poetry/lyreleg/Mimnermus",
          "prose/misc/Paeanius",
          "prose/misc/Phlegon",
          "prose/philosophy/Plato",
          "prose/history/Plutarch",
          "prose/history/Polybius",
          "prose/history/Procopius",
          "prose/misc/Pseudo-Lucian",
          "poetry/lyreleg/Sappho",
          "poetry/lyreleg/Semonides",
          "prose/bible/Septuagint",
          "prose/philosophy/Sextus Empiricus",
          "poetry/drama/Sophocles",
          "poetry/hexameter/Theocritus",
          "prose/philosophy/Theophrastus",
          "prose/history/Thucydides",
          "prose/history/Xenophon",
          "prose/bible",
          "poetry/drama",
          "poetry/hexameter",
          "prose/history",
          "poetry/lyreleg",
          "prose/misc",
          "prose/orator",
          "prose/philosophy",
          "prose/philosopy",
          "prose/tlg0096",
          "poetry/tlg0343",
          "poetry",
          "prose"
         ],
         "labels": [
          "Aeneas Tacticus",
          "Aeschines",
          "Aeschylus",
          "Aesop",
          "Antiphon",
          "Appian",
          "Aristophanes",
          "Aristotle",
          "Athenaeus",
          "Batrachomyomachia",
          "Chariton",
          "Chionis Epistulae",
          "Corpus Hippocraticum",
          "Demosthenes",
          "Diodorus Siculus",
          "Dionysius of Halicarnassus",
          "Epictetus",
          "Epicurus",
          "Euripides",
          "Ezechiel the Tragic Poet",
          "Herodotus",
          "Heron of Alexandria",
          "Hesiod",
          "Homer",
          "Homeric Hymns",
          "Isocrates",
          "Josephus",
          "Julian the Apostate",
          "Longus",
          "Lucian",
          "Lysias",
          "Menander",
          "Mimnermus",
          "Paeanius",
          "Phlegon",
          "Plato",
          "Plutarch",
          "Polybius",
          "Procopius",
          "Pseudo-Lucian",
          "Sappho",
          "Semonides",
          "Septuagint",
          "Sextus Empiricus",
          "Sophocles",
          "Theocritus",
          "Theophrastus",
          "Thucydides",
          "Xenophon",
          "bible",
          "drama",
          "hexameter",
          "history",
          "lyreleg",
          "misc",
          "orator",
          "philosophy",
          "philosopy",
          "tlg0096",
          "tlg0343",
          "poetry",
          "prose"
         ],
         "name": "",
         "parents": [
          "prose/misc",
          "prose/orator",
          "poetry/drama",
          "prose/tlg0096",
          "prose/orator",
          "prose/history",
          "poetry/drama",
          "prose/philosophy",
          "prose/misc",
          "poetry/hexameter",
          "prose/misc",
          "prose/misc",
          "prose/misc",
          "prose/orator",
          "prose/history",
          "prose/history",
          "prose/philosopy",
          "prose/philosophy",
          "poetry/drama",
          "poetry/tlg0343",
          "prose/history",
          "prose/misc",
          "poetry/hexameter",
          "poetry/hexameter",
          "poetry/hexameter",
          "prose/orator",
          "prose/history",
          "prose/misc",
          "prose/misc",
          "prose/misc",
          "prose/orator",
          "poetry/drama",
          "poetry/lyreleg",
          "prose/misc",
          "prose/misc",
          "prose/philosophy",
          "prose/history",
          "prose/history",
          "prose/history",
          "prose/misc",
          "poetry/lyreleg",
          "poetry/lyreleg",
          "prose/bible",
          "prose/philosophy",
          "poetry/drama",
          "poetry/hexameter",
          "prose/philosophy",
          "prose/history",
          "prose/history",
          "prose",
          "poetry",
          "poetry",
          "prose",
          "poetry",
          "prose",
          "prose",
          "prose",
          "prose",
          "prose",
          "poetry",
          "",
          ""
         ],
         "type": "sunburst",
         "values": [
          6478,
          14239,
          41046,
          0,
          14489,
          23012,
          15427,
          17632,
          40639,
          1920,
          5290,
          4900,
          24,
          58659,
          23371,
          27617,
          6267,
          1360,
          8572,
          0,
          30301,
          9278,
          16740,
          206454,
          3407,
          423,
          22745,
          1255,
          582,
          8269,
          21631,
          6901,
          181,
          5654,
          5004,
          15148,
          33267,
          96435,
          26416,
          9917,
          4204,
          660,
          18727,
          14386,
          42969,
          263,
          7104,
          52005,
          88735,
          18727,
          114915,
          228784,
          423904,
          5045,
          97290,
          109441,
          55630,
          6267,
          0,
          0,
          348744,
          711259
         ]
        }
       ],
       "layout": {
        "legend": {
         "tracegroupgap": 0
        },
        "margin": {
         "t": 60
        },
        "template": {
         "data": {
          "bar": [
           {
            "error_x": {
             "color": "#2a3f5f"
            },
            "error_y": {
             "color": "#2a3f5f"
            },
            "marker": {
             "line": {
              "color": "#E5ECF6",
              "width": 0.5
             },
             "pattern": {
              "fillmode": "overlay",
              "size": 10,
              "solidity": 0.2
             }
            },
            "type": "bar"
           }
          ],
          "barpolar": [
           {
            "marker": {
             "line": {
              "color": "#E5ECF6",
              "width": 0.5
             },
             "pattern": {
              "fillmode": "overlay",
              "size": 10,
              "solidity": 0.2
             }
            },
            "type": "barpolar"
           }
          ],
          "carpet": [
           {
            "aaxis": {
             "endlinecolor": "#2a3f5f",
             "gridcolor": "white",
             "linecolor": "white",
             "minorgridcolor": "white",
             "startlinecolor": "#2a3f5f"
            },
            "baxis": {
             "endlinecolor": "#2a3f5f",
             "gridcolor": "white",
             "linecolor": "white",
             "minorgridcolor": "white",
             "startlinecolor": "#2a3f5f"
            },
            "type": "carpet"
           }
          ],
          "choropleth": [
           {
            "colorbar": {
             "outlinewidth": 0,
             "ticks": ""
            },
            "type": "choropleth"
           }
          ],
          "contour": [
           {
            "colorbar": {
             "outlinewidth": 0,
             "ticks": ""
            },
            "colorscale": [
             [
              0,
              "#0d0887"
             ],
             [
              0.1111111111111111,
              "#46039f"
             ],
             [
              0.2222222222222222,
              "#7201a8"
             ],
             [
              0.3333333333333333,
              "#9c179e"
             ],
             [
              0.4444444444444444,
              "#bd3786"
             ],
             [
              0.5555555555555556,
              "#d8576b"
             ],
             [
              0.6666666666666666,
              "#ed7953"
             ],
             [
              0.7777777777777778,
              "#fb9f3a"
             ],
             [
              0.8888888888888888,
              "#fdca26"
             ],
             [
              1,
              "#f0f921"
             ]
            ],
            "type": "contour"
           }
          ],
          "contourcarpet": [
           {
            "colorbar": {
             "outlinewidth": 0,
             "ticks": ""
            },
            "type": "contourcarpet"
           }
          ],
          "heatmap": [
           {
            "colorbar": {
             "outlinewidth": 0,
             "ticks": ""
            },
            "colorscale": [
             [
              0,
              "#0d0887"
             ],
             [
              0.1111111111111111,
              "#46039f"
             ],
             [
              0.2222222222222222,
              "#7201a8"
             ],
             [
              0.3333333333333333,
              "#9c179e"
             ],
             [
              0.4444444444444444,
              "#bd3786"
             ],
             [
              0.5555555555555556,
              "#d8576b"
             ],
             [
              0.6666666666666666,
              "#ed7953"
             ],
             [
              0.7777777777777778,
              "#fb9f3a"
             ],
             [
              0.8888888888888888,
              "#fdca26"
             ],
             [
              1,
              "#f0f921"
             ]
            ],
            "type": "heatmap"
           }
          ],
          "heatmapgl": [
           {
            "colorbar": {
             "outlinewidth": 0,
             "ticks": ""
            },
            "colorscale": [
             [
              0,
              "#0d0887"
             ],
             [
              0.1111111111111111,
              "#46039f"
             ],
             [
              0.2222222222222222,
              "#7201a8"
             ],
             [
              0.3333333333333333,
              "#9c179e"
             ],
             [
              0.4444444444444444,
              "#bd3786"
             ],
             [
              0.5555555555555556,
              "#d8576b"
             ],
             [
              0.6666666666666666,
              "#ed7953"
             ],
             [
              0.7777777777777778,
              "#fb9f3a"
             ],
             [
              0.8888888888888888,
              "#fdca26"
             ],
             [
              1,
              "#f0f921"
             ]
            ],
            "type": "heatmapgl"
           }
          ],
          "histogram": [
           {
            "marker": {
             "pattern": {
              "fillmode": "overlay",
              "size": 10,
              "solidity": 0.2
             }
            },
            "type": "histogram"
           }
          ],
          "histogram2d": [
           {
            "colorbar": {
             "outlinewidth": 0,
             "ticks": ""
            },
            "colorscale": [
             [
              0,
              "#0d0887"
             ],
             [
              0.1111111111111111,
              "#46039f"
             ],
             [
              0.2222222222222222,
              "#7201a8"
             ],
             [
              0.3333333333333333,
              "#9c179e"
             ],
             [
              0.4444444444444444,
              "#bd3786"
             ],
             [
              0.5555555555555556,
              "#d8576b"
             ],
             [
              0.6666666666666666,
              "#ed7953"
             ],
             [
              0.7777777777777778,
              "#fb9f3a"
             ],
             [
              0.8888888888888888,
              "#fdca26"
             ],
             [
              1,
              "#f0f921"
             ]
            ],
            "type": "histogram2d"
           }
          ],
          "histogram2dcontour": [
           {
            "colorbar": {
             "outlinewidth": 0,
             "ticks": ""
            },
            "colorscale": [
             [
              0,
              "#0d0887"
             ],
             [
              0.1111111111111111,
              "#46039f"
             ],
             [
              0.2222222222222222,
              "#7201a8"
             ],
             [
              0.3333333333333333,
              "#9c179e"
             ],
             [
              0.4444444444444444,
              "#bd3786"
             ],
             [
              0.5555555555555556,
              "#d8576b"
             ],
             [
              0.6666666666666666,
              "#ed7953"
             ],
             [
              0.7777777777777778,
              "#fb9f3a"
             ],
             [
              0.8888888888888888,
              "#fdca26"
             ],
             [
              1,
              "#f0f921"
             ]
            ],
            "type": "histogram2dcontour"
           }
          ],
          "mesh3d": [
           {
            "colorbar": {
             "outlinewidth": 0,
             "ticks": ""
            },
            "type": "mesh3d"
           }
          ],
          "parcoords": [
           {
            "line": {
             "colorbar": {
              "outlinewidth": 0,
              "ticks": ""
             }
            },
            "type": "parcoords"
           }
          ],
          "pie": [
           {
            "automargin": true,
            "type": "pie"
           }
          ],
          "scatter": [
           {
            "marker": {
             "colorbar": {
              "outlinewidth": 0,
              "ticks": ""
             }
            },
            "type": "scatter"
           }
          ],
          "scatter3d": [
           {
            "line": {
             "colorbar": {
              "outlinewidth": 0,
              "ticks": ""
             }
            },
            "marker": {
             "colorbar": {
              "outlinewidth": 0,
              "ticks": ""
             }
            },
            "type": "scatter3d"
           }
          ],
          "scattercarpet": [
           {
            "marker": {
             "colorbar": {
              "outlinewidth": 0,
              "ticks": ""
             }
            },
            "type": "scattercarpet"
           }
          ],
          "scattergeo": [
           {
            "marker": {
             "colorbar": {
              "outlinewidth": 0,
              "ticks": ""
             }
            },
            "type": "scattergeo"
           }
          ],
          "scattergl": [
           {
            "marker": {
             "colorbar": {
              "outlinewidth": 0,
              "ticks": ""
             }
            },
            "type": "scattergl"
           }
          ],
          "scattermapbox": [
           {
            "marker": {
             "colorbar": {
              "outlinewidth": 0,
              "ticks": ""
             }
            },
            "type": "scattermapbox"
           }
          ],
          "scatterpolar": [
           {
            "marker": {
             "colorbar": {
              "outlinewidth": 0,
              "ticks": ""
             }
            },
            "type": "scatterpolar"
           }
          ],
          "scatterpolargl": [
           {
            "marker": {
             "colorbar": {
              "outlinewidth": 0,
              "ticks": ""
             }
            },
            "type": "scatterpolargl"
           }
          ],
          "scatterternary": [
           {
            "marker": {
             "colorbar": {
              "outlinewidth": 0,
              "ticks": ""
             }
            },
            "type": "scatterternary"
           }
          ],
          "surface": [
           {
            "colorbar": {
             "outlinewidth": 0,
             "ticks": ""
            },
            "colorscale": [
             [
              0,
              "#0d0887"
             ],
             [
              0.1111111111111111,
              "#46039f"
             ],
             [
              0.2222222222222222,
              "#7201a8"
             ],
             [
              0.3333333333333333,
              "#9c179e"
             ],
             [
              0.4444444444444444,
              "#bd3786"
             ],
             [
              0.5555555555555556,
              "#d8576b"
             ],
             [
              0.6666666666666666,
              "#ed7953"
             ],
             [
              0.7777777777777778,
              "#fb9f3a"
             ],
             [
              0.8888888888888888,
              "#fdca26"
             ],
             [
              1,
              "#f0f921"
             ]
            ],
            "type": "surface"
           }
          ],
          "table": [
           {
            "cells": {
             "fill": {
              "color": "#EBF0F8"
             },
             "line": {
              "color": "white"
             }
            },
            "header": {
             "fill": {
              "color": "#C8D4E3"
             },
             "line": {
              "color": "white"
             }
            },
            "type": "table"
           }
          ]
         },
         "layout": {
          "annotationdefaults": {
           "arrowcolor": "#2a3f5f",
           "arrowhead": 0,
           "arrowwidth": 1
          },
          "autotypenumbers": "strict",
          "coloraxis": {
           "colorbar": {
            "outlinewidth": 0,
            "ticks": ""
           }
          },
          "colorscale": {
           "diverging": [
            [
             0,
             "#8e0152"
            ],
            [
             0.1,
             "#c51b7d"
            ],
            [
             0.2,
             "#de77ae"
            ],
            [
             0.3,
             "#f1b6da"
            ],
            [
             0.4,
             "#fde0ef"
            ],
            [
             0.5,
             "#f7f7f7"
            ],
            [
             0.6,
             "#e6f5d0"
            ],
            [
             0.7,
             "#b8e186"
            ],
            [
             0.8,
             "#7fbc41"
            ],
            [
             0.9,
             "#4d9221"
            ],
            [
             1,
             "#276419"
            ]
           ],
           "sequential": [
            [
             0,
             "#0d0887"
            ],
            [
             0.1111111111111111,
             "#46039f"
            ],
            [
             0.2222222222222222,
             "#7201a8"
            ],
            [
             0.3333333333333333,
             "#9c179e"
            ],
            [
             0.4444444444444444,
             "#bd3786"
            ],
            [
             0.5555555555555556,
             "#d8576b"
            ],
            [
             0.6666666666666666,
             "#ed7953"
            ],
            [
             0.7777777777777778,
             "#fb9f3a"
            ],
            [
             0.8888888888888888,
             "#fdca26"
            ],
            [
             1,
             "#f0f921"
            ]
           ],
           "sequentialminus": [
            [
             0,
             "#0d0887"
            ],
            [
             0.1111111111111111,
             "#46039f"
            ],
            [
             0.2222222222222222,
             "#7201a8"
            ],
            [
             0.3333333333333333,
             "#9c179e"
            ],
            [
             0.4444444444444444,
             "#bd3786"
            ],
            [
             0.5555555555555556,
             "#d8576b"
            ],
            [
             0.6666666666666666,
             "#ed7953"
            ],
            [
             0.7777777777777778,
             "#fb9f3a"
            ],
            [
             0.8888888888888888,
             "#fdca26"
            ],
            [
             1,
             "#f0f921"
            ]
           ]
          },
          "colorway": [
           "#636efa",
           "#EF553B",
           "#00cc96",
           "#ab63fa",
           "#FFA15A",
           "#19d3f3",
           "#FF6692",
           "#B6E880",
           "#FF97FF",
           "#FECB52"
          ],
          "font": {
           "color": "#2a3f5f"
          },
          "geo": {
           "bgcolor": "white",
           "lakecolor": "white",
           "landcolor": "#E5ECF6",
           "showlakes": true,
           "showland": true,
           "subunitcolor": "white"
          },
          "hoverlabel": {
           "align": "left"
          },
          "hovermode": "closest",
          "mapbox": {
           "style": "light"
          },
          "paper_bgcolor": "white",
          "plot_bgcolor": "#E5ECF6",
          "polar": {
           "angularaxis": {
            "gridcolor": "white",
            "linecolor": "white",
            "ticks": ""
           },
           "bgcolor": "#E5ECF6",
           "radialaxis": {
            "gridcolor": "white",
            "linecolor": "white",
            "ticks": ""
           }
          },
          "scene": {
           "xaxis": {
            "backgroundcolor": "#E5ECF6",
            "gridcolor": "white",
            "gridwidth": 2,
            "linecolor": "white",
            "showbackground": true,
            "ticks": "",
            "zerolinecolor": "white"
           },
           "yaxis": {
            "backgroundcolor": "#E5ECF6",
            "gridcolor": "white",
            "gridwidth": 2,
            "linecolor": "white",
            "showbackground": true,
            "ticks": "",
            "zerolinecolor": "white"
           },
           "zaxis": {
            "backgroundcolor": "#E5ECF6",
            "gridcolor": "white",
            "gridwidth": 2,
            "linecolor": "white",
            "showbackground": true,
            "ticks": "",
            "zerolinecolor": "white"
           }
          },
          "shapedefaults": {
           "line": {
            "color": "#2a3f5f"
           }
          },
          "ternary": {
           "aaxis": {
            "gridcolor": "white",
            "linecolor": "white",
            "ticks": ""
           },
           "baxis": {
            "gridcolor": "white",
            "linecolor": "white",
            "ticks": ""
           },
           "bgcolor": "#E5ECF6",
           "caxis": {
            "gridcolor": "white",
            "linecolor": "white",
            "ticks": ""
           }
          },
          "title": {
           "x": 0.05
          },
          "xaxis": {
           "automargin": true,
           "gridcolor": "white",
           "linecolor": "white",
           "ticks": "",
           "title": {
            "standoff": 15
           },
           "zerolinecolor": "white",
           "zerolinewidth": 2
          },
          "yaxis": {
           "automargin": true,
           "gridcolor": "white",
           "linecolor": "white",
           "ticks": "",
           "title": {
            "standoff": 15
           },
           "zerolinecolor": "white",
           "zerolinewidth": 2
          }
         }
        }
       }
      },
      "text/html": [
       "<div>                            <div id=\"20327319-2860-4b31-9dd7-0d3675ce06c5\" class=\"plotly-graph-div\" style=\"height:525px; width:100%;\"></div>            <script type=\"text/javascript\">                require([\"plotly\"], function(Plotly) {                    window.PLOTLYENV=window.PLOTLYENV || {};                                    if (document.getElementById(\"20327319-2860-4b31-9dd7-0d3675ce06c5\")) {                    Plotly.newPlot(                        \"20327319-2860-4b31-9dd7-0d3675ce06c5\",                        [{\"branchvalues\":\"total\",\"domain\":{\"x\":[0.0,1.0],\"y\":[0.0,1.0]},\"hovertemplate\":\"labels=%{label}<br>words=%{value}<br>parent=%{parent}<br>id=%{id}<extra></extra>\",\"ids\":[\"prose/misc/Aeneas Tacticus\",\"prose/orator/Aeschines\",\"poetry/drama/Aeschylus\",\"prose/tlg0096/Aesop\",\"prose/orator/Antiphon\",\"prose/history/Appian\",\"poetry/drama/Aristophanes\",\"prose/philosophy/Aristotle\",\"prose/misc/Athenaeus\",\"poetry/hexameter/Batrachomyomachia\",\"prose/misc/Chariton\",\"prose/misc/Chionis Epistulae\",\"prose/misc/Corpus Hippocraticum\",\"prose/orator/Demosthenes\",\"prose/history/Diodorus Siculus\",\"prose/history/Dionysius of Halicarnassus\",\"prose/philosopy/Epictetus\",\"prose/philosophy/Epicurus\",\"poetry/drama/Euripides\",\"poetry/tlg0343/Ezechiel the Tragic Poet\",\"prose/history/Herodotus\",\"prose/misc/Heron of Alexandria\",\"poetry/hexameter/Hesiod\",\"poetry/hexameter/Homer\",\"poetry/hexameter/Homeric Hymns\",\"prose/orator/Isocrates\",\"prose/history/Josephus\",\"prose/misc/Julian the Apostate\",\"prose/misc/Longus\",\"prose/misc/Lucian\",\"prose/orator/Lysias\",\"poetry/drama/Menander\",\"poetry/lyreleg/Mimnermus\",\"prose/misc/Paeanius\",\"prose/misc/Phlegon\",\"prose/philosophy/Plato\",\"prose/history/Plutarch\",\"prose/history/Polybius\",\"prose/history/Procopius\",\"prose/misc/Pseudo-Lucian\",\"poetry/lyreleg/Sappho\",\"poetry/lyreleg/Semonides\",\"prose/bible/Septuagint\",\"prose/philosophy/Sextus Empiricus\",\"poetry/drama/Sophocles\",\"poetry/hexameter/Theocritus\",\"prose/philosophy/Theophrastus\",\"prose/history/Thucydides\",\"prose/history/Xenophon\",\"prose/bible\",\"poetry/drama\",\"poetry/hexameter\",\"prose/history\",\"poetry/lyreleg\",\"prose/misc\",\"prose/orator\",\"prose/philosophy\",\"prose/philosopy\",\"prose/tlg0096\",\"poetry/tlg0343\",\"poetry\",\"prose\"],\"labels\":[\"Aeneas Tacticus\",\"Aeschines\",\"Aeschylus\",\"Aesop\",\"Antiphon\",\"Appian\",\"Aristophanes\",\"Aristotle\",\"Athenaeus\",\"Batrachomyomachia\",\"Chariton\",\"Chionis Epistulae\",\"Corpus Hippocraticum\",\"Demosthenes\",\"Diodorus Siculus\",\"Dionysius of Halicarnassus\",\"Epictetus\",\"Epicurus\",\"Euripides\",\"Ezechiel the Tragic Poet\",\"Herodotus\",\"Heron of Alexandria\",\"Hesiod\",\"Homer\",\"Homeric Hymns\",\"Isocrates\",\"Josephus\",\"Julian the Apostate\",\"Longus\",\"Lucian\",\"Lysias\",\"Menander\",\"Mimnermus\",\"Paeanius\",\"Phlegon\",\"Plato\",\"Plutarch\",\"Polybius\",\"Procopius\",\"Pseudo-Lucian\",\"Sappho\",\"Semonides\",\"Septuagint\",\"Sextus Empiricus\",\"Sophocles\",\"Theocritus\",\"Theophrastus\",\"Thucydides\",\"Xenophon\",\"bible\",\"drama\",\"hexameter\",\"history\",\"lyreleg\",\"misc\",\"orator\",\"philosophy\",\"philosopy\",\"tlg0096\",\"tlg0343\",\"poetry\",\"prose\"],\"name\":\"\",\"parents\":[\"prose/misc\",\"prose/orator\",\"poetry/drama\",\"prose/tlg0096\",\"prose/orator\",\"prose/history\",\"poetry/drama\",\"prose/philosophy\",\"prose/misc\",\"poetry/hexameter\",\"prose/misc\",\"prose/misc\",\"prose/misc\",\"prose/orator\",\"prose/history\",\"prose/history\",\"prose/philosopy\",\"prose/philosophy\",\"poetry/drama\",\"poetry/tlg0343\",\"prose/history\",\"prose/misc\",\"poetry/hexameter\",\"poetry/hexameter\",\"poetry/hexameter\",\"prose/orator\",\"prose/history\",\"prose/misc\",\"prose/misc\",\"prose/misc\",\"prose/orator\",\"poetry/drama\",\"poetry/lyreleg\",\"prose/misc\",\"prose/misc\",\"prose/philosophy\",\"prose/history\",\"prose/history\",\"prose/history\",\"prose/misc\",\"poetry/lyreleg\",\"poetry/lyreleg\",\"prose/bible\",\"prose/philosophy\",\"poetry/drama\",\"poetry/hexameter\",\"prose/philosophy\",\"prose/history\",\"prose/history\",\"prose\",\"poetry\",\"poetry\",\"prose\",\"poetry\",\"prose\",\"prose\",\"prose\",\"prose\",\"prose\",\"poetry\",\"\",\"\"],\"type\":\"sunburst\",\"values\":[6478.0,14239.0,41046.0,0.0,14489.0,23012.0,15427.0,17632.0,40639.0,1920.0,5290.0,4900.0,24.0,58659.0,23371.0,27617.0,6267.0,1360.0,8572.0,0.0,30301.0,9278.0,16740.0,206454.0,3407.0,423.0,22745.0,1255.0,582.0,8269.0,21631.0,6901.0,181.0,5654.0,5004.0,15148.0,33267.0,96435.0,26416.0,9917.0,4204.0,660.0,18727.0,14386.0,42969.0,263.0,7104.0,52005.0,88735.0,18727.0,114915.0,228784.0,423904.0,5045.0,97290.0,109441.0,55630.0,6267.0,0.0,0.0,348744.0,711259.0]}],                        {\"legend\":{\"tracegroupgap\":0},\"margin\":{\"t\":60},\"template\":{\"data\":{\"bar\":[{\"error_x\":{\"color\":\"#2a3f5f\"},\"error_y\":{\"color\":\"#2a3f5f\"},\"marker\":{\"line\":{\"color\":\"#E5ECF6\",\"width\":0.5},\"pattern\":{\"fillmode\":\"overlay\",\"size\":10,\"solidity\":0.2}},\"type\":\"bar\"}],\"barpolar\":[{\"marker\":{\"line\":{\"color\":\"#E5ECF6\",\"width\":0.5},\"pattern\":{\"fillmode\":\"overlay\",\"size\":10,\"solidity\":0.2}},\"type\":\"barpolar\"}],\"carpet\":[{\"aaxis\":{\"endlinecolor\":\"#2a3f5f\",\"gridcolor\":\"white\",\"linecolor\":\"white\",\"minorgridcolor\":\"white\",\"startlinecolor\":\"#2a3f5f\"},\"baxis\":{\"endlinecolor\":\"#2a3f5f\",\"gridcolor\":\"white\",\"linecolor\":\"white\",\"minorgridcolor\":\"white\",\"startlinecolor\":\"#2a3f5f\"},\"type\":\"carpet\"}],\"choropleth\":[{\"colorbar\":{\"outlinewidth\":0,\"ticks\":\"\"},\"type\":\"choropleth\"}],\"contour\":[{\"colorbar\":{\"outlinewidth\":0,\"ticks\":\"\"},\"colorscale\":[[0.0,\"#0d0887\"],[0.1111111111111111,\"#46039f\"],[0.2222222222222222,\"#7201a8\"],[0.3333333333333333,\"#9c179e\"],[0.4444444444444444,\"#bd3786\"],[0.5555555555555556,\"#d8576b\"],[0.6666666666666666,\"#ed7953\"],[0.7777777777777778,\"#fb9f3a\"],[0.8888888888888888,\"#fdca26\"],[1.0,\"#f0f921\"]],\"type\":\"contour\"}],\"contourcarpet\":[{\"colorbar\":{\"outlinewidth\":0,\"ticks\":\"\"},\"type\":\"contourcarpet\"}],\"heatmap\":[{\"colorbar\":{\"outlinewidth\":0,\"ticks\":\"\"},\"colorscale\":[[0.0,\"#0d0887\"],[0.1111111111111111,\"#46039f\"],[0.2222222222222222,\"#7201a8\"],[0.3333333333333333,\"#9c179e\"],[0.4444444444444444,\"#bd3786\"],[0.5555555555555556,\"#d8576b\"],[0.6666666666666666,\"#ed7953\"],[0.7777777777777778,\"#fb9f3a\"],[0.8888888888888888,\"#fdca26\"],[1.0,\"#f0f921\"]],\"type\":\"heatmap\"}],\"heatmapgl\":[{\"colorbar\":{\"outlinewidth\":0,\"ticks\":\"\"},\"colorscale\":[[0.0,\"#0d0887\"],[0.1111111111111111,\"#46039f\"],[0.2222222222222222,\"#7201a8\"],[0.3333333333333333,\"#9c179e\"],[0.4444444444444444,\"#bd3786\"],[0.5555555555555556,\"#d8576b\"],[0.6666666666666666,\"#ed7953\"],[0.7777777777777778,\"#fb9f3a\"],[0.8888888888888888,\"#fdca26\"],[1.0,\"#f0f921\"]],\"type\":\"heatmapgl\"}],\"histogram\":[{\"marker\":{\"pattern\":{\"fillmode\":\"overlay\",\"size\":10,\"solidity\":0.2}},\"type\":\"histogram\"}],\"histogram2d\":[{\"colorbar\":{\"outlinewidth\":0,\"ticks\":\"\"},\"colorscale\":[[0.0,\"#0d0887\"],[0.1111111111111111,\"#46039f\"],[0.2222222222222222,\"#7201a8\"],[0.3333333333333333,\"#9c179e\"],[0.4444444444444444,\"#bd3786\"],[0.5555555555555556,\"#d8576b\"],[0.6666666666666666,\"#ed7953\"],[0.7777777777777778,\"#fb9f3a\"],[0.8888888888888888,\"#fdca26\"],[1.0,\"#f0f921\"]],\"type\":\"histogram2d\"}],\"histogram2dcontour\":[{\"colorbar\":{\"outlinewidth\":0,\"ticks\":\"\"},\"colorscale\":[[0.0,\"#0d0887\"],[0.1111111111111111,\"#46039f\"],[0.2222222222222222,\"#7201a8\"],[0.3333333333333333,\"#9c179e\"],[0.4444444444444444,\"#bd3786\"],[0.5555555555555556,\"#d8576b\"],[0.6666666666666666,\"#ed7953\"],[0.7777777777777778,\"#fb9f3a\"],[0.8888888888888888,\"#fdca26\"],[1.0,\"#f0f921\"]],\"type\":\"histogram2dcontour\"}],\"mesh3d\":[{\"colorbar\":{\"outlinewidth\":0,\"ticks\":\"\"},\"type\":\"mesh3d\"}],\"parcoords\":[{\"line\":{\"colorbar\":{\"outlinewidth\":0,\"ticks\":\"\"}},\"type\":\"parcoords\"}],\"pie\":[{\"automargin\":true,\"type\":\"pie\"}],\"scatter\":[{\"marker\":{\"colorbar\":{\"outlinewidth\":0,\"ticks\":\"\"}},\"type\":\"scatter\"}],\"scatter3d\":[{\"line\":{\"colorbar\":{\"outlinewidth\":0,\"ticks\":\"\"}},\"marker\":{\"colorbar\":{\"outlinewidth\":0,\"ticks\":\"\"}},\"type\":\"scatter3d\"}],\"scattercarpet\":[{\"marker\":{\"colorbar\":{\"outlinewidth\":0,\"ticks\":\"\"}},\"type\":\"scattercarpet\"}],\"scattergeo\":[{\"marker\":{\"colorbar\":{\"outlinewidth\":0,\"ticks\":\"\"}},\"type\":\"scattergeo\"}],\"scattergl\":[{\"marker\":{\"colorbar\":{\"outlinewidth\":0,\"ticks\":\"\"}},\"type\":\"scattergl\"}],\"scattermapbox\":[{\"marker\":{\"colorbar\":{\"outlinewidth\":0,\"ticks\":\"\"}},\"type\":\"scattermapbox\"}],\"scatterpolar\":[{\"marker\":{\"colorbar\":{\"outlinewidth\":0,\"ticks\":\"\"}},\"type\":\"scatterpolar\"}],\"scatterpolargl\":[{\"marker\":{\"colorbar\":{\"outlinewidth\":0,\"ticks\":\"\"}},\"type\":\"scatterpolargl\"}],\"scatterternary\":[{\"marker\":{\"colorbar\":{\"outlinewidth\":0,\"ticks\":\"\"}},\"type\":\"scatterternary\"}],\"surface\":[{\"colorbar\":{\"outlinewidth\":0,\"ticks\":\"\"},\"colorscale\":[[0.0,\"#0d0887\"],[0.1111111111111111,\"#46039f\"],[0.2222222222222222,\"#7201a8\"],[0.3333333333333333,\"#9c179e\"],[0.4444444444444444,\"#bd3786\"],[0.5555555555555556,\"#d8576b\"],[0.6666666666666666,\"#ed7953\"],[0.7777777777777778,\"#fb9f3a\"],[0.8888888888888888,\"#fdca26\"],[1.0,\"#f0f921\"]],\"type\":\"surface\"}],\"table\":[{\"cells\":{\"fill\":{\"color\":\"#EBF0F8\"},\"line\":{\"color\":\"white\"}},\"header\":{\"fill\":{\"color\":\"#C8D4E3\"},\"line\":{\"color\":\"white\"}},\"type\":\"table\"}]},\"layout\":{\"annotationdefaults\":{\"arrowcolor\":\"#2a3f5f\",\"arrowhead\":0,\"arrowwidth\":1},\"autotypenumbers\":\"strict\",\"coloraxis\":{\"colorbar\":{\"outlinewidth\":0,\"ticks\":\"\"}},\"colorscale\":{\"diverging\":[[0,\"#8e0152\"],[0.1,\"#c51b7d\"],[0.2,\"#de77ae\"],[0.3,\"#f1b6da\"],[0.4,\"#fde0ef\"],[0.5,\"#f7f7f7\"],[0.6,\"#e6f5d0\"],[0.7,\"#b8e186\"],[0.8,\"#7fbc41\"],[0.9,\"#4d9221\"],[1,\"#276419\"]],\"sequential\":[[0.0,\"#0d0887\"],[0.1111111111111111,\"#46039f\"],[0.2222222222222222,\"#7201a8\"],[0.3333333333333333,\"#9c179e\"],[0.4444444444444444,\"#bd3786\"],[0.5555555555555556,\"#d8576b\"],[0.6666666666666666,\"#ed7953\"],[0.7777777777777778,\"#fb9f3a\"],[0.8888888888888888,\"#fdca26\"],[1.0,\"#f0f921\"]],\"sequentialminus\":[[0.0,\"#0d0887\"],[0.1111111111111111,\"#46039f\"],[0.2222222222222222,\"#7201a8\"],[0.3333333333333333,\"#9c179e\"],[0.4444444444444444,\"#bd3786\"],[0.5555555555555556,\"#d8576b\"],[0.6666666666666666,\"#ed7953\"],[0.7777777777777778,\"#fb9f3a\"],[0.8888888888888888,\"#fdca26\"],[1.0,\"#f0f921\"]]},\"colorway\":[\"#636efa\",\"#EF553B\",\"#00cc96\",\"#ab63fa\",\"#FFA15A\",\"#19d3f3\",\"#FF6692\",\"#B6E880\",\"#FF97FF\",\"#FECB52\"],\"font\":{\"color\":\"#2a3f5f\"},\"geo\":{\"bgcolor\":\"white\",\"lakecolor\":\"white\",\"landcolor\":\"#E5ECF6\",\"showlakes\":true,\"showland\":true,\"subunitcolor\":\"white\"},\"hoverlabel\":{\"align\":\"left\"},\"hovermode\":\"closest\",\"mapbox\":{\"style\":\"light\"},\"paper_bgcolor\":\"white\",\"plot_bgcolor\":\"#E5ECF6\",\"polar\":{\"angularaxis\":{\"gridcolor\":\"white\",\"linecolor\":\"white\",\"ticks\":\"\"},\"bgcolor\":\"#E5ECF6\",\"radialaxis\":{\"gridcolor\":\"white\",\"linecolor\":\"white\",\"ticks\":\"\"}},\"scene\":{\"xaxis\":{\"backgroundcolor\":\"#E5ECF6\",\"gridcolor\":\"white\",\"gridwidth\":2,\"linecolor\":\"white\",\"showbackground\":true,\"ticks\":\"\",\"zerolinecolor\":\"white\"},\"yaxis\":{\"backgroundcolor\":\"#E5ECF6\",\"gridcolor\":\"white\",\"gridwidth\":2,\"linecolor\":\"white\",\"showbackground\":true,\"ticks\":\"\",\"zerolinecolor\":\"white\"},\"zaxis\":{\"backgroundcolor\":\"#E5ECF6\",\"gridcolor\":\"white\",\"gridwidth\":2,\"linecolor\":\"white\",\"showbackground\":true,\"ticks\":\"\",\"zerolinecolor\":\"white\"}},\"shapedefaults\":{\"line\":{\"color\":\"#2a3f5f\"}},\"ternary\":{\"aaxis\":{\"gridcolor\":\"white\",\"linecolor\":\"white\",\"ticks\":\"\"},\"baxis\":{\"gridcolor\":\"white\",\"linecolor\":\"white\",\"ticks\":\"\"},\"bgcolor\":\"#E5ECF6\",\"caxis\":{\"gridcolor\":\"white\",\"linecolor\":\"white\",\"ticks\":\"\"}},\"title\":{\"x\":0.05},\"xaxis\":{\"automargin\":true,\"gridcolor\":\"white\",\"linecolor\":\"white\",\"ticks\":\"\",\"title\":{\"standoff\":15},\"zerolinecolor\":\"white\",\"zerolinewidth\":2},\"yaxis\":{\"automargin\":true,\"gridcolor\":\"white\",\"linecolor\":\"white\",\"ticks\":\"\",\"title\":{\"standoff\":15},\"zerolinecolor\":\"white\",\"zerolinewidth\":2}}}},                        {\"responsive\": true}                    ).then(function(){\n",
       "                            \n",
       "var gd = document.getElementById('20327319-2860-4b31-9dd7-0d3675ce06c5');\n",
       "var x = new MutationObserver(function (mutations, observer) {{\n",
       "        var display = window.getComputedStyle(gd).display;\n",
       "        if (!display || display === 'none') {{\n",
       "            console.log([gd, 'removed!']);\n",
       "            Plotly.purge(gd);\n",
       "            observer.disconnect();\n",
       "        }}\n",
       "}});\n",
       "\n",
       "// Listen for the removal of the full notebook cells\n",
       "var notebookContainer = gd.closest('#notebook-container');\n",
       "if (notebookContainer) {{\n",
       "    x.observe(notebookContainer, {childList: true});\n",
       "}}\n",
       "\n",
       "// Listen for the clearing of the current output cell\n",
       "var outputEl = gd.closest('.output');\n",
       "if (outputEl) {{\n",
       "    x.observe(outputEl, {childList: true});\n",
       "}}\n",
       "\n",
       "                        })                };                });            </script>        </div>"
      ]
     },
     "metadata": {},
     "output_type": "display_data"
    }
   ],
   "source": [
    "import plotly.express as px\n",
    "\n",
    "\n",
    "fig = px.sunburst(df, path=['prose/poetry','genre', 'textgroup'], values='words')\n",
    "fig.show()"
   ]
  },
  {
   "cell_type": "code",
   "execution_count": 31,
   "metadata": {},
   "outputs": [
    {
     "data": {
      "application/vnd.plotly.v1+json": {
       "config": {
        "plotlyServerURL": "https://plot.ly"
       },
       "data": [
        {
         "branchvalues": "total",
         "domain": {
          "x": [
           0,
           1
          ],
          "y": [
           0,
           1
          ]
         },
         "hovertemplate": "labels=%{label}<br>words=%{value}<br>parent=%{parent}<br>id=%{id}<extra></extra>",
         "ids": [
          "Treebank/prose/misc/Aeneas Tacticus",
          "Treebank/prose/orator/Aeschines",
          "Treebank/poetry/drama/Aeschylus",
          "Treebank/prose/tlg0096/Aesop",
          "Treebank/prose/orator/Antiphon",
          "Treebank/prose/history/Appian",
          "Treebank/poetry/drama/Aristophanes",
          "Treebank/prose/philosophy/Aristotle",
          "Treebank/prose/misc/Athenaeus",
          "Treebank/poetry/hexameter/Batrachomyomachia",
          "Treebank/prose/misc/Chariton",
          "Treebank/prose/misc/Chionis Epistulae",
          "Treebank/prose/misc/Corpus Hippocraticum",
          "Treebank/prose/orator/Demosthenes",
          "Treebank/prose/history/Diodorus Siculus",
          "Treebank/prose/history/Dionysius of Halicarnassus",
          "Treebank/prose/philosopy/Epictetus",
          "Treebank/prose/philosophy/Epicurus",
          "Treebank/poetry/drama/Euripides",
          "Treebank/poetry/tlg0343/Ezechiel the Tragic Poet",
          "Treebank/prose/history/Herodotus",
          "Treebank/prose/misc/Heron of Alexandria",
          "Treebank/poetry/hexameter/Hesiod",
          "Treebank/poetry/hexameter/Homer",
          "Treebank/poetry/hexameter/Homeric Hymns",
          "Treebank/prose/orator/Isocrates",
          "Treebank/prose/history/Josephus",
          "Treebank/prose/misc/Julian the Apostate",
          "Treebank/prose/misc/Longus",
          "Treebank/prose/misc/Lucian",
          "Treebank/prose/orator/Lysias",
          "Treebank/poetry/drama/Menander",
          "Treebank/poetry/lyreleg/Mimnermus",
          "Treebank/prose/misc/Paeanius",
          "Treebank/prose/misc/Phlegon",
          "Treebank/prose/philosophy/Plato",
          "Treebank/prose/history/Plutarch",
          "Treebank/prose/history/Polybius",
          "Treebank/prose/history/Procopius",
          "Treebank/prose/misc/Pseudo-Lucian",
          "Treebank/poetry/lyreleg/Sappho",
          "Treebank/poetry/lyreleg/Semonides",
          "Treebank/prose/bible/Septuagint",
          "Treebank/prose/philosophy/Sextus Empiricus",
          "Treebank/poetry/drama/Sophocles",
          "Treebank/poetry/hexameter/Theocritus",
          "Treebank/prose/philosophy/Theophrastus",
          "Treebank/prose/history/Thucydides",
          "Treebank/prose/history/Xenophon",
          "Treebank/prose/bible",
          "Treebank/poetry/drama",
          "Treebank/poetry/hexameter",
          "Treebank/prose/history",
          "Treebank/poetry/lyreleg",
          "Treebank/prose/misc",
          "Treebank/prose/orator",
          "Treebank/prose/philosophy",
          "Treebank/prose/philosopy",
          "Treebank/prose/tlg0096",
          "Treebank/poetry/tlg0343",
          "Treebank/poetry",
          "Treebank/prose",
          "Treebank"
         ],
         "labels": [
          "Aeneas Tacticus",
          "Aeschines",
          "Aeschylus",
          "Aesop",
          "Antiphon",
          "Appian",
          "Aristophanes",
          "Aristotle",
          "Athenaeus",
          "Batrachomyomachia",
          "Chariton",
          "Chionis Epistulae",
          "Corpus Hippocraticum",
          "Demosthenes",
          "Diodorus Siculus",
          "Dionysius of Halicarnassus",
          "Epictetus",
          "Epicurus",
          "Euripides",
          "Ezechiel the Tragic Poet",
          "Herodotus",
          "Heron of Alexandria",
          "Hesiod",
          "Homer",
          "Homeric Hymns",
          "Isocrates",
          "Josephus",
          "Julian the Apostate",
          "Longus",
          "Lucian",
          "Lysias",
          "Menander",
          "Mimnermus",
          "Paeanius",
          "Phlegon",
          "Plato",
          "Plutarch",
          "Polybius",
          "Procopius",
          "Pseudo-Lucian",
          "Sappho",
          "Semonides",
          "Septuagint",
          "Sextus Empiricus",
          "Sophocles",
          "Theocritus",
          "Theophrastus",
          "Thucydides",
          "Xenophon",
          "bible",
          "drama",
          "hexameter",
          "history",
          "lyreleg",
          "misc",
          "orator",
          "philosophy",
          "philosopy",
          "tlg0096",
          "tlg0343",
          "poetry",
          "prose",
          "Treebank"
         ],
         "name": "",
         "parents": [
          "Treebank/prose/misc",
          "Treebank/prose/orator",
          "Treebank/poetry/drama",
          "Treebank/prose/tlg0096",
          "Treebank/prose/orator",
          "Treebank/prose/history",
          "Treebank/poetry/drama",
          "Treebank/prose/philosophy",
          "Treebank/prose/misc",
          "Treebank/poetry/hexameter",
          "Treebank/prose/misc",
          "Treebank/prose/misc",
          "Treebank/prose/misc",
          "Treebank/prose/orator",
          "Treebank/prose/history",
          "Treebank/prose/history",
          "Treebank/prose/philosopy",
          "Treebank/prose/philosophy",
          "Treebank/poetry/drama",
          "Treebank/poetry/tlg0343",
          "Treebank/prose/history",
          "Treebank/prose/misc",
          "Treebank/poetry/hexameter",
          "Treebank/poetry/hexameter",
          "Treebank/poetry/hexameter",
          "Treebank/prose/orator",
          "Treebank/prose/history",
          "Treebank/prose/misc",
          "Treebank/prose/misc",
          "Treebank/prose/misc",
          "Treebank/prose/orator",
          "Treebank/poetry/drama",
          "Treebank/poetry/lyreleg",
          "Treebank/prose/misc",
          "Treebank/prose/misc",
          "Treebank/prose/philosophy",
          "Treebank/prose/history",
          "Treebank/prose/history",
          "Treebank/prose/history",
          "Treebank/prose/misc",
          "Treebank/poetry/lyreleg",
          "Treebank/poetry/lyreleg",
          "Treebank/prose/bible",
          "Treebank/prose/philosophy",
          "Treebank/poetry/drama",
          "Treebank/poetry/hexameter",
          "Treebank/prose/philosophy",
          "Treebank/prose/history",
          "Treebank/prose/history",
          "Treebank/prose",
          "Treebank/poetry",
          "Treebank/poetry",
          "Treebank/prose",
          "Treebank/poetry",
          "Treebank/prose",
          "Treebank/prose",
          "Treebank/prose",
          "Treebank/prose",
          "Treebank/prose",
          "Treebank/poetry",
          "Treebank",
          "Treebank",
          ""
         ],
         "type": "treemap",
         "values": [
          6478,
          14239,
          41046,
          0,
          14489,
          23012,
          15427,
          17632,
          40639,
          1920,
          5290,
          4900,
          24,
          58659,
          23371,
          27617,
          6267,
          1360,
          8572,
          0,
          30301,
          9278,
          16740,
          206454,
          3407,
          423,
          22745,
          1255,
          582,
          8269,
          21631,
          6901,
          181,
          5654,
          5004,
          15148,
          33267,
          96435,
          26416,
          9917,
          4204,
          660,
          18727,
          14386,
          42969,
          263,
          7104,
          52005,
          88735,
          18727,
          114915,
          228784,
          423904,
          5045,
          97290,
          109441,
          55630,
          6267,
          0,
          0,
          348744,
          711259,
          1060003
         ]
        }
       ],
       "layout": {
        "legend": {
         "tracegroupgap": 0
        },
        "margin": {
         "t": 60
        },
        "template": {
         "data": {
          "bar": [
           {
            "error_x": {
             "color": "#2a3f5f"
            },
            "error_y": {
             "color": "#2a3f5f"
            },
            "marker": {
             "line": {
              "color": "#E5ECF6",
              "width": 0.5
             },
             "pattern": {
              "fillmode": "overlay",
              "size": 10,
              "solidity": 0.2
             }
            },
            "type": "bar"
           }
          ],
          "barpolar": [
           {
            "marker": {
             "line": {
              "color": "#E5ECF6",
              "width": 0.5
             },
             "pattern": {
              "fillmode": "overlay",
              "size": 10,
              "solidity": 0.2
             }
            },
            "type": "barpolar"
           }
          ],
          "carpet": [
           {
            "aaxis": {
             "endlinecolor": "#2a3f5f",
             "gridcolor": "white",
             "linecolor": "white",
             "minorgridcolor": "white",
             "startlinecolor": "#2a3f5f"
            },
            "baxis": {
             "endlinecolor": "#2a3f5f",
             "gridcolor": "white",
             "linecolor": "white",
             "minorgridcolor": "white",
             "startlinecolor": "#2a3f5f"
            },
            "type": "carpet"
           }
          ],
          "choropleth": [
           {
            "colorbar": {
             "outlinewidth": 0,
             "ticks": ""
            },
            "type": "choropleth"
           }
          ],
          "contour": [
           {
            "colorbar": {
             "outlinewidth": 0,
             "ticks": ""
            },
            "colorscale": [
             [
              0,
              "#0d0887"
             ],
             [
              0.1111111111111111,
              "#46039f"
             ],
             [
              0.2222222222222222,
              "#7201a8"
             ],
             [
              0.3333333333333333,
              "#9c179e"
             ],
             [
              0.4444444444444444,
              "#bd3786"
             ],
             [
              0.5555555555555556,
              "#d8576b"
             ],
             [
              0.6666666666666666,
              "#ed7953"
             ],
             [
              0.7777777777777778,
              "#fb9f3a"
             ],
             [
              0.8888888888888888,
              "#fdca26"
             ],
             [
              1,
              "#f0f921"
             ]
            ],
            "type": "contour"
           }
          ],
          "contourcarpet": [
           {
            "colorbar": {
             "outlinewidth": 0,
             "ticks": ""
            },
            "type": "contourcarpet"
           }
          ],
          "heatmap": [
           {
            "colorbar": {
             "outlinewidth": 0,
             "ticks": ""
            },
            "colorscale": [
             [
              0,
              "#0d0887"
             ],
             [
              0.1111111111111111,
              "#46039f"
             ],
             [
              0.2222222222222222,
              "#7201a8"
             ],
             [
              0.3333333333333333,
              "#9c179e"
             ],
             [
              0.4444444444444444,
              "#bd3786"
             ],
             [
              0.5555555555555556,
              "#d8576b"
             ],
             [
              0.6666666666666666,
              "#ed7953"
             ],
             [
              0.7777777777777778,
              "#fb9f3a"
             ],
             [
              0.8888888888888888,
              "#fdca26"
             ],
             [
              1,
              "#f0f921"
             ]
            ],
            "type": "heatmap"
           }
          ],
          "heatmapgl": [
           {
            "colorbar": {
             "outlinewidth": 0,
             "ticks": ""
            },
            "colorscale": [
             [
              0,
              "#0d0887"
             ],
             [
              0.1111111111111111,
              "#46039f"
             ],
             [
              0.2222222222222222,
              "#7201a8"
             ],
             [
              0.3333333333333333,
              "#9c179e"
             ],
             [
              0.4444444444444444,
              "#bd3786"
             ],
             [
              0.5555555555555556,
              "#d8576b"
             ],
             [
              0.6666666666666666,
              "#ed7953"
             ],
             [
              0.7777777777777778,
              "#fb9f3a"
             ],
             [
              0.8888888888888888,
              "#fdca26"
             ],
             [
              1,
              "#f0f921"
             ]
            ],
            "type": "heatmapgl"
           }
          ],
          "histogram": [
           {
            "marker": {
             "pattern": {
              "fillmode": "overlay",
              "size": 10,
              "solidity": 0.2
             }
            },
            "type": "histogram"
           }
          ],
          "histogram2d": [
           {
            "colorbar": {
             "outlinewidth": 0,
             "ticks": ""
            },
            "colorscale": [
             [
              0,
              "#0d0887"
             ],
             [
              0.1111111111111111,
              "#46039f"
             ],
             [
              0.2222222222222222,
              "#7201a8"
             ],
             [
              0.3333333333333333,
              "#9c179e"
             ],
             [
              0.4444444444444444,
              "#bd3786"
             ],
             [
              0.5555555555555556,
              "#d8576b"
             ],
             [
              0.6666666666666666,
              "#ed7953"
             ],
             [
              0.7777777777777778,
              "#fb9f3a"
             ],
             [
              0.8888888888888888,
              "#fdca26"
             ],
             [
              1,
              "#f0f921"
             ]
            ],
            "type": "histogram2d"
           }
          ],
          "histogram2dcontour": [
           {
            "colorbar": {
             "outlinewidth": 0,
             "ticks": ""
            },
            "colorscale": [
             [
              0,
              "#0d0887"
             ],
             [
              0.1111111111111111,
              "#46039f"
             ],
             [
              0.2222222222222222,
              "#7201a8"
             ],
             [
              0.3333333333333333,
              "#9c179e"
             ],
             [
              0.4444444444444444,
              "#bd3786"
             ],
             [
              0.5555555555555556,
              "#d8576b"
             ],
             [
              0.6666666666666666,
              "#ed7953"
             ],
             [
              0.7777777777777778,
              "#fb9f3a"
             ],
             [
              0.8888888888888888,
              "#fdca26"
             ],
             [
              1,
              "#f0f921"
             ]
            ],
            "type": "histogram2dcontour"
           }
          ],
          "mesh3d": [
           {
            "colorbar": {
             "outlinewidth": 0,
             "ticks": ""
            },
            "type": "mesh3d"
           }
          ],
          "parcoords": [
           {
            "line": {
             "colorbar": {
              "outlinewidth": 0,
              "ticks": ""
             }
            },
            "type": "parcoords"
           }
          ],
          "pie": [
           {
            "automargin": true,
            "type": "pie"
           }
          ],
          "scatter": [
           {
            "marker": {
             "colorbar": {
              "outlinewidth": 0,
              "ticks": ""
             }
            },
            "type": "scatter"
           }
          ],
          "scatter3d": [
           {
            "line": {
             "colorbar": {
              "outlinewidth": 0,
              "ticks": ""
             }
            },
            "marker": {
             "colorbar": {
              "outlinewidth": 0,
              "ticks": ""
             }
            },
            "type": "scatter3d"
           }
          ],
          "scattercarpet": [
           {
            "marker": {
             "colorbar": {
              "outlinewidth": 0,
              "ticks": ""
             }
            },
            "type": "scattercarpet"
           }
          ],
          "scattergeo": [
           {
            "marker": {
             "colorbar": {
              "outlinewidth": 0,
              "ticks": ""
             }
            },
            "type": "scattergeo"
           }
          ],
          "scattergl": [
           {
            "marker": {
             "colorbar": {
              "outlinewidth": 0,
              "ticks": ""
             }
            },
            "type": "scattergl"
           }
          ],
          "scattermapbox": [
           {
            "marker": {
             "colorbar": {
              "outlinewidth": 0,
              "ticks": ""
             }
            },
            "type": "scattermapbox"
           }
          ],
          "scatterpolar": [
           {
            "marker": {
             "colorbar": {
              "outlinewidth": 0,
              "ticks": ""
             }
            },
            "type": "scatterpolar"
           }
          ],
          "scatterpolargl": [
           {
            "marker": {
             "colorbar": {
              "outlinewidth": 0,
              "ticks": ""
             }
            },
            "type": "scatterpolargl"
           }
          ],
          "scatterternary": [
           {
            "marker": {
             "colorbar": {
              "outlinewidth": 0,
              "ticks": ""
             }
            },
            "type": "scatterternary"
           }
          ],
          "surface": [
           {
            "colorbar": {
             "outlinewidth": 0,
             "ticks": ""
            },
            "colorscale": [
             [
              0,
              "#0d0887"
             ],
             [
              0.1111111111111111,
              "#46039f"
             ],
             [
              0.2222222222222222,
              "#7201a8"
             ],
             [
              0.3333333333333333,
              "#9c179e"
             ],
             [
              0.4444444444444444,
              "#bd3786"
             ],
             [
              0.5555555555555556,
              "#d8576b"
             ],
             [
              0.6666666666666666,
              "#ed7953"
             ],
             [
              0.7777777777777778,
              "#fb9f3a"
             ],
             [
              0.8888888888888888,
              "#fdca26"
             ],
             [
              1,
              "#f0f921"
             ]
            ],
            "type": "surface"
           }
          ],
          "table": [
           {
            "cells": {
             "fill": {
              "color": "#EBF0F8"
             },
             "line": {
              "color": "white"
             }
            },
            "header": {
             "fill": {
              "color": "#C8D4E3"
             },
             "line": {
              "color": "white"
             }
            },
            "type": "table"
           }
          ]
         },
         "layout": {
          "annotationdefaults": {
           "arrowcolor": "#2a3f5f",
           "arrowhead": 0,
           "arrowwidth": 1
          },
          "autotypenumbers": "strict",
          "coloraxis": {
           "colorbar": {
            "outlinewidth": 0,
            "ticks": ""
           }
          },
          "colorscale": {
           "diverging": [
            [
             0,
             "#8e0152"
            ],
            [
             0.1,
             "#c51b7d"
            ],
            [
             0.2,
             "#de77ae"
            ],
            [
             0.3,
             "#f1b6da"
            ],
            [
             0.4,
             "#fde0ef"
            ],
            [
             0.5,
             "#f7f7f7"
            ],
            [
             0.6,
             "#e6f5d0"
            ],
            [
             0.7,
             "#b8e186"
            ],
            [
             0.8,
             "#7fbc41"
            ],
            [
             0.9,
             "#4d9221"
            ],
            [
             1,
             "#276419"
            ]
           ],
           "sequential": [
            [
             0,
             "#0d0887"
            ],
            [
             0.1111111111111111,
             "#46039f"
            ],
            [
             0.2222222222222222,
             "#7201a8"
            ],
            [
             0.3333333333333333,
             "#9c179e"
            ],
            [
             0.4444444444444444,
             "#bd3786"
            ],
            [
             0.5555555555555556,
             "#d8576b"
            ],
            [
             0.6666666666666666,
             "#ed7953"
            ],
            [
             0.7777777777777778,
             "#fb9f3a"
            ],
            [
             0.8888888888888888,
             "#fdca26"
            ],
            [
             1,
             "#f0f921"
            ]
           ],
           "sequentialminus": [
            [
             0,
             "#0d0887"
            ],
            [
             0.1111111111111111,
             "#46039f"
            ],
            [
             0.2222222222222222,
             "#7201a8"
            ],
            [
             0.3333333333333333,
             "#9c179e"
            ],
            [
             0.4444444444444444,
             "#bd3786"
            ],
            [
             0.5555555555555556,
             "#d8576b"
            ],
            [
             0.6666666666666666,
             "#ed7953"
            ],
            [
             0.7777777777777778,
             "#fb9f3a"
            ],
            [
             0.8888888888888888,
             "#fdca26"
            ],
            [
             1,
             "#f0f921"
            ]
           ]
          },
          "colorway": [
           "#636efa",
           "#EF553B",
           "#00cc96",
           "#ab63fa",
           "#FFA15A",
           "#19d3f3",
           "#FF6692",
           "#B6E880",
           "#FF97FF",
           "#FECB52"
          ],
          "font": {
           "color": "#2a3f5f"
          },
          "geo": {
           "bgcolor": "white",
           "lakecolor": "white",
           "landcolor": "#E5ECF6",
           "showlakes": true,
           "showland": true,
           "subunitcolor": "white"
          },
          "hoverlabel": {
           "align": "left"
          },
          "hovermode": "closest",
          "mapbox": {
           "style": "light"
          },
          "paper_bgcolor": "white",
          "plot_bgcolor": "#E5ECF6",
          "polar": {
           "angularaxis": {
            "gridcolor": "white",
            "linecolor": "white",
            "ticks": ""
           },
           "bgcolor": "#E5ECF6",
           "radialaxis": {
            "gridcolor": "white",
            "linecolor": "white",
            "ticks": ""
           }
          },
          "scene": {
           "xaxis": {
            "backgroundcolor": "#E5ECF6",
            "gridcolor": "white",
            "gridwidth": 2,
            "linecolor": "white",
            "showbackground": true,
            "ticks": "",
            "zerolinecolor": "white"
           },
           "yaxis": {
            "backgroundcolor": "#E5ECF6",
            "gridcolor": "white",
            "gridwidth": 2,
            "linecolor": "white",
            "showbackground": true,
            "ticks": "",
            "zerolinecolor": "white"
           },
           "zaxis": {
            "backgroundcolor": "#E5ECF6",
            "gridcolor": "white",
            "gridwidth": 2,
            "linecolor": "white",
            "showbackground": true,
            "ticks": "",
            "zerolinecolor": "white"
           }
          },
          "shapedefaults": {
           "line": {
            "color": "#2a3f5f"
           }
          },
          "ternary": {
           "aaxis": {
            "gridcolor": "white",
            "linecolor": "white",
            "ticks": ""
           },
           "baxis": {
            "gridcolor": "white",
            "linecolor": "white",
            "ticks": ""
           },
           "bgcolor": "#E5ECF6",
           "caxis": {
            "gridcolor": "white",
            "linecolor": "white",
            "ticks": ""
           }
          },
          "title": {
           "x": 0.05
          },
          "xaxis": {
           "automargin": true,
           "gridcolor": "white",
           "linecolor": "white",
           "ticks": "",
           "title": {
            "standoff": 15
           },
           "zerolinecolor": "white",
           "zerolinewidth": 2
          },
          "yaxis": {
           "automargin": true,
           "gridcolor": "white",
           "linecolor": "white",
           "ticks": "",
           "title": {
            "standoff": 15
           },
           "zerolinecolor": "white",
           "zerolinewidth": 2
          }
         }
        }
       }
      },
      "text/html": [
       "<div>                            <div id=\"5a08f7c2-4483-4fc4-b559-8fd51c5a1ec8\" class=\"plotly-graph-div\" style=\"height:525px; width:100%;\"></div>            <script type=\"text/javascript\">                require([\"plotly\"], function(Plotly) {                    window.PLOTLYENV=window.PLOTLYENV || {};                                    if (document.getElementById(\"5a08f7c2-4483-4fc4-b559-8fd51c5a1ec8\")) {                    Plotly.newPlot(                        \"5a08f7c2-4483-4fc4-b559-8fd51c5a1ec8\",                        [{\"branchvalues\":\"total\",\"domain\":{\"x\":[0.0,1.0],\"y\":[0.0,1.0]},\"hovertemplate\":\"labels=%{label}<br>words=%{value}<br>parent=%{parent}<br>id=%{id}<extra></extra>\",\"ids\":[\"Treebank/prose/misc/Aeneas Tacticus\",\"Treebank/prose/orator/Aeschines\",\"Treebank/poetry/drama/Aeschylus\",\"Treebank/prose/tlg0096/Aesop\",\"Treebank/prose/orator/Antiphon\",\"Treebank/prose/history/Appian\",\"Treebank/poetry/drama/Aristophanes\",\"Treebank/prose/philosophy/Aristotle\",\"Treebank/prose/misc/Athenaeus\",\"Treebank/poetry/hexameter/Batrachomyomachia\",\"Treebank/prose/misc/Chariton\",\"Treebank/prose/misc/Chionis Epistulae\",\"Treebank/prose/misc/Corpus Hippocraticum\",\"Treebank/prose/orator/Demosthenes\",\"Treebank/prose/history/Diodorus Siculus\",\"Treebank/prose/history/Dionysius of Halicarnassus\",\"Treebank/prose/philosopy/Epictetus\",\"Treebank/prose/philosophy/Epicurus\",\"Treebank/poetry/drama/Euripides\",\"Treebank/poetry/tlg0343/Ezechiel the Tragic Poet\",\"Treebank/prose/history/Herodotus\",\"Treebank/prose/misc/Heron of Alexandria\",\"Treebank/poetry/hexameter/Hesiod\",\"Treebank/poetry/hexameter/Homer\",\"Treebank/poetry/hexameter/Homeric Hymns\",\"Treebank/prose/orator/Isocrates\",\"Treebank/prose/history/Josephus\",\"Treebank/prose/misc/Julian the Apostate\",\"Treebank/prose/misc/Longus\",\"Treebank/prose/misc/Lucian\",\"Treebank/prose/orator/Lysias\",\"Treebank/poetry/drama/Menander\",\"Treebank/poetry/lyreleg/Mimnermus\",\"Treebank/prose/misc/Paeanius\",\"Treebank/prose/misc/Phlegon\",\"Treebank/prose/philosophy/Plato\",\"Treebank/prose/history/Plutarch\",\"Treebank/prose/history/Polybius\",\"Treebank/prose/history/Procopius\",\"Treebank/prose/misc/Pseudo-Lucian\",\"Treebank/poetry/lyreleg/Sappho\",\"Treebank/poetry/lyreleg/Semonides\",\"Treebank/prose/bible/Septuagint\",\"Treebank/prose/philosophy/Sextus Empiricus\",\"Treebank/poetry/drama/Sophocles\",\"Treebank/poetry/hexameter/Theocritus\",\"Treebank/prose/philosophy/Theophrastus\",\"Treebank/prose/history/Thucydides\",\"Treebank/prose/history/Xenophon\",\"Treebank/prose/bible\",\"Treebank/poetry/drama\",\"Treebank/poetry/hexameter\",\"Treebank/prose/history\",\"Treebank/poetry/lyreleg\",\"Treebank/prose/misc\",\"Treebank/prose/orator\",\"Treebank/prose/philosophy\",\"Treebank/prose/philosopy\",\"Treebank/prose/tlg0096\",\"Treebank/poetry/tlg0343\",\"Treebank/poetry\",\"Treebank/prose\",\"Treebank\"],\"labels\":[\"Aeneas Tacticus\",\"Aeschines\",\"Aeschylus\",\"Aesop\",\"Antiphon\",\"Appian\",\"Aristophanes\",\"Aristotle\",\"Athenaeus\",\"Batrachomyomachia\",\"Chariton\",\"Chionis Epistulae\",\"Corpus Hippocraticum\",\"Demosthenes\",\"Diodorus Siculus\",\"Dionysius of Halicarnassus\",\"Epictetus\",\"Epicurus\",\"Euripides\",\"Ezechiel the Tragic Poet\",\"Herodotus\",\"Heron of Alexandria\",\"Hesiod\",\"Homer\",\"Homeric Hymns\",\"Isocrates\",\"Josephus\",\"Julian the Apostate\",\"Longus\",\"Lucian\",\"Lysias\",\"Menander\",\"Mimnermus\",\"Paeanius\",\"Phlegon\",\"Plato\",\"Plutarch\",\"Polybius\",\"Procopius\",\"Pseudo-Lucian\",\"Sappho\",\"Semonides\",\"Septuagint\",\"Sextus Empiricus\",\"Sophocles\",\"Theocritus\",\"Theophrastus\",\"Thucydides\",\"Xenophon\",\"bible\",\"drama\",\"hexameter\",\"history\",\"lyreleg\",\"misc\",\"orator\",\"philosophy\",\"philosopy\",\"tlg0096\",\"tlg0343\",\"poetry\",\"prose\",\"Treebank\"],\"name\":\"\",\"parents\":[\"Treebank/prose/misc\",\"Treebank/prose/orator\",\"Treebank/poetry/drama\",\"Treebank/prose/tlg0096\",\"Treebank/prose/orator\",\"Treebank/prose/history\",\"Treebank/poetry/drama\",\"Treebank/prose/philosophy\",\"Treebank/prose/misc\",\"Treebank/poetry/hexameter\",\"Treebank/prose/misc\",\"Treebank/prose/misc\",\"Treebank/prose/misc\",\"Treebank/prose/orator\",\"Treebank/prose/history\",\"Treebank/prose/history\",\"Treebank/prose/philosopy\",\"Treebank/prose/philosophy\",\"Treebank/poetry/drama\",\"Treebank/poetry/tlg0343\",\"Treebank/prose/history\",\"Treebank/prose/misc\",\"Treebank/poetry/hexameter\",\"Treebank/poetry/hexameter\",\"Treebank/poetry/hexameter\",\"Treebank/prose/orator\",\"Treebank/prose/history\",\"Treebank/prose/misc\",\"Treebank/prose/misc\",\"Treebank/prose/misc\",\"Treebank/prose/orator\",\"Treebank/poetry/drama\",\"Treebank/poetry/lyreleg\",\"Treebank/prose/misc\",\"Treebank/prose/misc\",\"Treebank/prose/philosophy\",\"Treebank/prose/history\",\"Treebank/prose/history\",\"Treebank/prose/history\",\"Treebank/prose/misc\",\"Treebank/poetry/lyreleg\",\"Treebank/poetry/lyreleg\",\"Treebank/prose/bible\",\"Treebank/prose/philosophy\",\"Treebank/poetry/drama\",\"Treebank/poetry/hexameter\",\"Treebank/prose/philosophy\",\"Treebank/prose/history\",\"Treebank/prose/history\",\"Treebank/prose\",\"Treebank/poetry\",\"Treebank/poetry\",\"Treebank/prose\",\"Treebank/poetry\",\"Treebank/prose\",\"Treebank/prose\",\"Treebank/prose\",\"Treebank/prose\",\"Treebank/prose\",\"Treebank/poetry\",\"Treebank\",\"Treebank\",\"\"],\"type\":\"treemap\",\"values\":[6478.0,14239.0,41046.0,0.0,14489.0,23012.0,15427.0,17632.0,40639.0,1920.0,5290.0,4900.0,24.0,58659.0,23371.0,27617.0,6267.0,1360.0,8572.0,0.0,30301.0,9278.0,16740.0,206454.0,3407.0,423.0,22745.0,1255.0,582.0,8269.0,21631.0,6901.0,181.0,5654.0,5004.0,15148.0,33267.0,96435.0,26416.0,9917.0,4204.0,660.0,18727.0,14386.0,42969.0,263.0,7104.0,52005.0,88735.0,18727.0,114915.0,228784.0,423904.0,5045.0,97290.0,109441.0,55630.0,6267.0,0.0,0.0,348744.0,711259.0,1060003.0]}],                        {\"legend\":{\"tracegroupgap\":0},\"margin\":{\"t\":60},\"template\":{\"data\":{\"bar\":[{\"error_x\":{\"color\":\"#2a3f5f\"},\"error_y\":{\"color\":\"#2a3f5f\"},\"marker\":{\"line\":{\"color\":\"#E5ECF6\",\"width\":0.5},\"pattern\":{\"fillmode\":\"overlay\",\"size\":10,\"solidity\":0.2}},\"type\":\"bar\"}],\"barpolar\":[{\"marker\":{\"line\":{\"color\":\"#E5ECF6\",\"width\":0.5},\"pattern\":{\"fillmode\":\"overlay\",\"size\":10,\"solidity\":0.2}},\"type\":\"barpolar\"}],\"carpet\":[{\"aaxis\":{\"endlinecolor\":\"#2a3f5f\",\"gridcolor\":\"white\",\"linecolor\":\"white\",\"minorgridcolor\":\"white\",\"startlinecolor\":\"#2a3f5f\"},\"baxis\":{\"endlinecolor\":\"#2a3f5f\",\"gridcolor\":\"white\",\"linecolor\":\"white\",\"minorgridcolor\":\"white\",\"startlinecolor\":\"#2a3f5f\"},\"type\":\"carpet\"}],\"choropleth\":[{\"colorbar\":{\"outlinewidth\":0,\"ticks\":\"\"},\"type\":\"choropleth\"}],\"contour\":[{\"colorbar\":{\"outlinewidth\":0,\"ticks\":\"\"},\"colorscale\":[[0.0,\"#0d0887\"],[0.1111111111111111,\"#46039f\"],[0.2222222222222222,\"#7201a8\"],[0.3333333333333333,\"#9c179e\"],[0.4444444444444444,\"#bd3786\"],[0.5555555555555556,\"#d8576b\"],[0.6666666666666666,\"#ed7953\"],[0.7777777777777778,\"#fb9f3a\"],[0.8888888888888888,\"#fdca26\"],[1.0,\"#f0f921\"]],\"type\":\"contour\"}],\"contourcarpet\":[{\"colorbar\":{\"outlinewidth\":0,\"ticks\":\"\"},\"type\":\"contourcarpet\"}],\"heatmap\":[{\"colorbar\":{\"outlinewidth\":0,\"ticks\":\"\"},\"colorscale\":[[0.0,\"#0d0887\"],[0.1111111111111111,\"#46039f\"],[0.2222222222222222,\"#7201a8\"],[0.3333333333333333,\"#9c179e\"],[0.4444444444444444,\"#bd3786\"],[0.5555555555555556,\"#d8576b\"],[0.6666666666666666,\"#ed7953\"],[0.7777777777777778,\"#fb9f3a\"],[0.8888888888888888,\"#fdca26\"],[1.0,\"#f0f921\"]],\"type\":\"heatmap\"}],\"heatmapgl\":[{\"colorbar\":{\"outlinewidth\":0,\"ticks\":\"\"},\"colorscale\":[[0.0,\"#0d0887\"],[0.1111111111111111,\"#46039f\"],[0.2222222222222222,\"#7201a8\"],[0.3333333333333333,\"#9c179e\"],[0.4444444444444444,\"#bd3786\"],[0.5555555555555556,\"#d8576b\"],[0.6666666666666666,\"#ed7953\"],[0.7777777777777778,\"#fb9f3a\"],[0.8888888888888888,\"#fdca26\"],[1.0,\"#f0f921\"]],\"type\":\"heatmapgl\"}],\"histogram\":[{\"marker\":{\"pattern\":{\"fillmode\":\"overlay\",\"size\":10,\"solidity\":0.2}},\"type\":\"histogram\"}],\"histogram2d\":[{\"colorbar\":{\"outlinewidth\":0,\"ticks\":\"\"},\"colorscale\":[[0.0,\"#0d0887\"],[0.1111111111111111,\"#46039f\"],[0.2222222222222222,\"#7201a8\"],[0.3333333333333333,\"#9c179e\"],[0.4444444444444444,\"#bd3786\"],[0.5555555555555556,\"#d8576b\"],[0.6666666666666666,\"#ed7953\"],[0.7777777777777778,\"#fb9f3a\"],[0.8888888888888888,\"#fdca26\"],[1.0,\"#f0f921\"]],\"type\":\"histogram2d\"}],\"histogram2dcontour\":[{\"colorbar\":{\"outlinewidth\":0,\"ticks\":\"\"},\"colorscale\":[[0.0,\"#0d0887\"],[0.1111111111111111,\"#46039f\"],[0.2222222222222222,\"#7201a8\"],[0.3333333333333333,\"#9c179e\"],[0.4444444444444444,\"#bd3786\"],[0.5555555555555556,\"#d8576b\"],[0.6666666666666666,\"#ed7953\"],[0.7777777777777778,\"#fb9f3a\"],[0.8888888888888888,\"#fdca26\"],[1.0,\"#f0f921\"]],\"type\":\"histogram2dcontour\"}],\"mesh3d\":[{\"colorbar\":{\"outlinewidth\":0,\"ticks\":\"\"},\"type\":\"mesh3d\"}],\"parcoords\":[{\"line\":{\"colorbar\":{\"outlinewidth\":0,\"ticks\":\"\"}},\"type\":\"parcoords\"}],\"pie\":[{\"automargin\":true,\"type\":\"pie\"}],\"scatter\":[{\"marker\":{\"colorbar\":{\"outlinewidth\":0,\"ticks\":\"\"}},\"type\":\"scatter\"}],\"scatter3d\":[{\"line\":{\"colorbar\":{\"outlinewidth\":0,\"ticks\":\"\"}},\"marker\":{\"colorbar\":{\"outlinewidth\":0,\"ticks\":\"\"}},\"type\":\"scatter3d\"}],\"scattercarpet\":[{\"marker\":{\"colorbar\":{\"outlinewidth\":0,\"ticks\":\"\"}},\"type\":\"scattercarpet\"}],\"scattergeo\":[{\"marker\":{\"colorbar\":{\"outlinewidth\":0,\"ticks\":\"\"}},\"type\":\"scattergeo\"}],\"scattergl\":[{\"marker\":{\"colorbar\":{\"outlinewidth\":0,\"ticks\":\"\"}},\"type\":\"scattergl\"}],\"scattermapbox\":[{\"marker\":{\"colorbar\":{\"outlinewidth\":0,\"ticks\":\"\"}},\"type\":\"scattermapbox\"}],\"scatterpolar\":[{\"marker\":{\"colorbar\":{\"outlinewidth\":0,\"ticks\":\"\"}},\"type\":\"scatterpolar\"}],\"scatterpolargl\":[{\"marker\":{\"colorbar\":{\"outlinewidth\":0,\"ticks\":\"\"}},\"type\":\"scatterpolargl\"}],\"scatterternary\":[{\"marker\":{\"colorbar\":{\"outlinewidth\":0,\"ticks\":\"\"}},\"type\":\"scatterternary\"}],\"surface\":[{\"colorbar\":{\"outlinewidth\":0,\"ticks\":\"\"},\"colorscale\":[[0.0,\"#0d0887\"],[0.1111111111111111,\"#46039f\"],[0.2222222222222222,\"#7201a8\"],[0.3333333333333333,\"#9c179e\"],[0.4444444444444444,\"#bd3786\"],[0.5555555555555556,\"#d8576b\"],[0.6666666666666666,\"#ed7953\"],[0.7777777777777778,\"#fb9f3a\"],[0.8888888888888888,\"#fdca26\"],[1.0,\"#f0f921\"]],\"type\":\"surface\"}],\"table\":[{\"cells\":{\"fill\":{\"color\":\"#EBF0F8\"},\"line\":{\"color\":\"white\"}},\"header\":{\"fill\":{\"color\":\"#C8D4E3\"},\"line\":{\"color\":\"white\"}},\"type\":\"table\"}]},\"layout\":{\"annotationdefaults\":{\"arrowcolor\":\"#2a3f5f\",\"arrowhead\":0,\"arrowwidth\":1},\"autotypenumbers\":\"strict\",\"coloraxis\":{\"colorbar\":{\"outlinewidth\":0,\"ticks\":\"\"}},\"colorscale\":{\"diverging\":[[0,\"#8e0152\"],[0.1,\"#c51b7d\"],[0.2,\"#de77ae\"],[0.3,\"#f1b6da\"],[0.4,\"#fde0ef\"],[0.5,\"#f7f7f7\"],[0.6,\"#e6f5d0\"],[0.7,\"#b8e186\"],[0.8,\"#7fbc41\"],[0.9,\"#4d9221\"],[1,\"#276419\"]],\"sequential\":[[0.0,\"#0d0887\"],[0.1111111111111111,\"#46039f\"],[0.2222222222222222,\"#7201a8\"],[0.3333333333333333,\"#9c179e\"],[0.4444444444444444,\"#bd3786\"],[0.5555555555555556,\"#d8576b\"],[0.6666666666666666,\"#ed7953\"],[0.7777777777777778,\"#fb9f3a\"],[0.8888888888888888,\"#fdca26\"],[1.0,\"#f0f921\"]],\"sequentialminus\":[[0.0,\"#0d0887\"],[0.1111111111111111,\"#46039f\"],[0.2222222222222222,\"#7201a8\"],[0.3333333333333333,\"#9c179e\"],[0.4444444444444444,\"#bd3786\"],[0.5555555555555556,\"#d8576b\"],[0.6666666666666666,\"#ed7953\"],[0.7777777777777778,\"#fb9f3a\"],[0.8888888888888888,\"#fdca26\"],[1.0,\"#f0f921\"]]},\"colorway\":[\"#636efa\",\"#EF553B\",\"#00cc96\",\"#ab63fa\",\"#FFA15A\",\"#19d3f3\",\"#FF6692\",\"#B6E880\",\"#FF97FF\",\"#FECB52\"],\"font\":{\"color\":\"#2a3f5f\"},\"geo\":{\"bgcolor\":\"white\",\"lakecolor\":\"white\",\"landcolor\":\"#E5ECF6\",\"showlakes\":true,\"showland\":true,\"subunitcolor\":\"white\"},\"hoverlabel\":{\"align\":\"left\"},\"hovermode\":\"closest\",\"mapbox\":{\"style\":\"light\"},\"paper_bgcolor\":\"white\",\"plot_bgcolor\":\"#E5ECF6\",\"polar\":{\"angularaxis\":{\"gridcolor\":\"white\",\"linecolor\":\"white\",\"ticks\":\"\"},\"bgcolor\":\"#E5ECF6\",\"radialaxis\":{\"gridcolor\":\"white\",\"linecolor\":\"white\",\"ticks\":\"\"}},\"scene\":{\"xaxis\":{\"backgroundcolor\":\"#E5ECF6\",\"gridcolor\":\"white\",\"gridwidth\":2,\"linecolor\":\"white\",\"showbackground\":true,\"ticks\":\"\",\"zerolinecolor\":\"white\"},\"yaxis\":{\"backgroundcolor\":\"#E5ECF6\",\"gridcolor\":\"white\",\"gridwidth\":2,\"linecolor\":\"white\",\"showbackground\":true,\"ticks\":\"\",\"zerolinecolor\":\"white\"},\"zaxis\":{\"backgroundcolor\":\"#E5ECF6\",\"gridcolor\":\"white\",\"gridwidth\":2,\"linecolor\":\"white\",\"showbackground\":true,\"ticks\":\"\",\"zerolinecolor\":\"white\"}},\"shapedefaults\":{\"line\":{\"color\":\"#2a3f5f\"}},\"ternary\":{\"aaxis\":{\"gridcolor\":\"white\",\"linecolor\":\"white\",\"ticks\":\"\"},\"baxis\":{\"gridcolor\":\"white\",\"linecolor\":\"white\",\"ticks\":\"\"},\"bgcolor\":\"#E5ECF6\",\"caxis\":{\"gridcolor\":\"white\",\"linecolor\":\"white\",\"ticks\":\"\"}},\"title\":{\"x\":0.05},\"xaxis\":{\"automargin\":true,\"gridcolor\":\"white\",\"linecolor\":\"white\",\"ticks\":\"\",\"title\":{\"standoff\":15},\"zerolinecolor\":\"white\",\"zerolinewidth\":2},\"yaxis\":{\"automargin\":true,\"gridcolor\":\"white\",\"linecolor\":\"white\",\"ticks\":\"\",\"title\":{\"standoff\":15},\"zerolinecolor\":\"white\",\"zerolinewidth\":2}}}},                        {\"responsive\": true}                    ).then(function(){\n",
       "                            \n",
       "var gd = document.getElementById('5a08f7c2-4483-4fc4-b559-8fd51c5a1ec8');\n",
       "var x = new MutationObserver(function (mutations, observer) {{\n",
       "        var display = window.getComputedStyle(gd).display;\n",
       "        if (!display || display === 'none') {{\n",
       "            console.log([gd, 'removed!']);\n",
       "            Plotly.purge(gd);\n",
       "            observer.disconnect();\n",
       "        }}\n",
       "}});\n",
       "\n",
       "// Listen for the removal of the full notebook cells\n",
       "var notebookContainer = gd.closest('#notebook-container');\n",
       "if (notebookContainer) {{\n",
       "    x.observe(notebookContainer, {childList: true});\n",
       "}}\n",
       "\n",
       "// Listen for the clearing of the current output cell\n",
       "var outputEl = gd.closest('.output');\n",
       "if (outputEl) {{\n",
       "    x.observe(outputEl, {childList: true});\n",
       "}}\n",
       "\n",
       "                        })                };                });            </script>        </div>"
      ]
     },
     "metadata": {},
     "output_type": "display_data"
    }
   ],
   "source": [
    "fig2 = px.treemap(df, path=[px.Constant('Treebank'), 'prose/poetry','genre', 'textgroup'], values='words')\n",
    "fig2.show()\n"
   ]
  },
  {
   "cell_type": "code",
   "execution_count": null,
   "metadata": {},
   "outputs": [],
   "source": []
  }
 ],
 "metadata": {
  "kernelspec": {
   "display_name": "Python 3",
   "language": "python",
   "name": "python3"
  },
  "language_info": {
   "codemirror_mode": {
    "name": "ipython",
    "version": 3
   },
   "file_extension": ".py",
   "mimetype": "text/x-python",
   "name": "python",
   "nbconvert_exporter": "python",
   "pygments_lexer": "ipython3",
   "version": "3.8.1"
  }
 },
 "nbformat": 4,
 "nbformat_minor": 4
}
